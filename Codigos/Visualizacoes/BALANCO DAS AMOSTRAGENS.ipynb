{
 "cells": [
  {
   "cell_type": "code",
   "execution_count": 1,
   "metadata": {
    "collapsed": true
   },
   "outputs": [],
   "source": [
    "import numpy as np\n",
    "import matplotlib.pyplot as plt\n",
    "import os\n",
    "import pickle"
   ]
  },
  {
   "cell_type": "markdown",
   "metadata": {},
   "source": [
    "# Resumo da Amostragem BBC\n"
   ]
  },
  {
   "cell_type": "code",
   "execution_count": 2,
   "metadata": {
    "collapsed": true
   },
   "outputs": [],
   "source": [
    "answers=[]\n",
    "for f in os.listdir(\"../../Objetos/Objetos Processados Amostra/Binario/\"):\n",
    "    answers=answers+pickle.load(open(\"../../Objetos/Objetos Processados Amostra/Binario/\"+f,\"rb\"))\n",
    "\n",
    "for f in os.listdir(\"../../Objetos/Objetos Processados Amostra/TF/\"):\n",
    "    if \"8\" not in f:\n",
    "        answers=answers+pickle.load(open(\"../../Objetos/Objetos Processados Amostra/TF/\"+f,\"rb\"))\n",
    "\n",
    "for f in os.listdir(\"../../Objetos/Objetos Processados Amostra/Word2Vec/\"):\n",
    "    if \"8\" not in f:\n",
    "        answers=answers+pickle.load(open(\"../../Objetos/Objetos Processados Amostra/Word2Vec/\"+f,\"rb\"))\n",
    "\n",
    "for f in os.listdir(\"../../Objetos/Objetos Processados Amostra/TFIDF/\"):\n",
    "    if \"8\" not in f:\n",
    "        answers=answers+pickle.load(open(\"../../Objetos/Objetos Processados Amostra/TFIDF/\"+f,\"rb\"))"
   ]
  },
  {
   "cell_type": "code",
   "execution_count": 3,
   "metadata": {
    "collapsed": true
   },
   "outputs": [],
   "source": [
    "resp= answers"
   ]
  },
  {
   "cell_type": "code",
   "execution_count": 4,
   "metadata": {
    "collapsed": true
   },
   "outputs": [],
   "source": [
    "resp= sorted(resp,key= lambda x: x[0])"
   ]
  },
  {
   "cell_type": "code",
   "execution_count": 5,
   "metadata": {
    "scrolled": true
   },
   "outputs": [
    {
     "data": {
      "text/plain": [
       "[(0.20845513049596892,\n",
       "  {'LSA': True,\n",
       "   'algoritmo': 'media',\n",
       "   'corpus': 'bbc',\n",
       "   'distancia': 'cosseno',\n",
       "   'inicializacao': 'x',\n",
       "   'ncluster': 2,\n",
       "   'processamento': 'Normal',\n",
       "   'representacao': 'Binario',\n",
       "   'tamanho': '3k'}),\n",
       " (0.20892315833738651,\n",
       "  {'LSA': True,\n",
       "   'algoritmo': 'media',\n",
       "   'corpus': 'bbc',\n",
       "   'distancia': 'cosseno',\n",
       "   'inicializacao': 'x',\n",
       "   'ncluster': 2,\n",
       "   'processamento': 'Lemma',\n",
       "   'representacao': 'Binario',\n",
       "   'tamanho': '3k'}),\n",
       " (0.21634468155489395,\n",
       "  {'LSA': True,\n",
       "   'algoritmo': 'media',\n",
       "   'corpus': 'bbc',\n",
       "   'distancia': 'manhattan',\n",
       "   'inicializacao': 'x',\n",
       "   'ncluster': 2,\n",
       "   'processamento': 'Normal',\n",
       "   'representacao': 'Binario',\n",
       "   'tamanho': '3k'}),\n",
       " (0.26845698199871038,\n",
       "  {'LSA': True,\n",
       "   'algoritmo': 'media',\n",
       "   'corpus': 'bbc',\n",
       "   'distancia': 'euclidiana',\n",
       "   'inicializacao': 'x',\n",
       "   'ncluster': 2,\n",
       "   'processamento': 'Normal',\n",
       "   'representacao': 'Binario',\n",
       "   'tamanho': '3k'}),\n",
       " (0.28344756439044949,\n",
       "  {'LSA': True,\n",
       "   'algoritmo': 'media',\n",
       "   'corpus': 'bbc',\n",
       "   'distancia': 'euclidiana',\n",
       "   'inicializacao': 'x',\n",
       "   'ncluster': 2,\n",
       "   'processamento': 'Normal',\n",
       "   'representacao': 'TF',\n",
       "   'tamanho': '3k'}),\n",
       " (0.28880529017211481,\n",
       "  {'LSA': True,\n",
       "   'algoritmo': 'media',\n",
       "   'corpus': 'bbc',\n",
       "   'distancia': 'euclidiana',\n",
       "   'inicializacao': 'x',\n",
       "   'ncluster': 2,\n",
       "   'processamento': 'Lemma',\n",
       "   'representacao': 'TF',\n",
       "   'tamanho': '3k'}),\n",
       " (0.28981661978896373,\n",
       "  {'LSA': True,\n",
       "   'algoritmo': 'media',\n",
       "   'corpus': 'bbc',\n",
       "   'distancia': 'manhattan',\n",
       "   'inicializacao': 'x',\n",
       "   'ncluster': 2,\n",
       "   'processamento': 'Lemma',\n",
       "   'representacao': 'TF',\n",
       "   'tamanho': '3k'}),\n",
       " (0.29154932639325631,\n",
       "  {'LSA': True,\n",
       "   'algoritmo': 'media',\n",
       "   'corpus': 'bbc',\n",
       "   'distancia': 'cosseno',\n",
       "   'inicializacao': 'x',\n",
       "   'ncluster': 2,\n",
       "   'processamento': 'Lemma',\n",
       "   'representacao': 'TF',\n",
       "   'tamanho': '3k'}),\n",
       " (0.29822614144378007,\n",
       "  {'LSA': True,\n",
       "   'algoritmo': 'media',\n",
       "   'corpus': 'bbc',\n",
       "   'distancia': 'manhattan',\n",
       "   'inicializacao': 'x',\n",
       "   'ncluster': 2,\n",
       "   'processamento': 'Normal',\n",
       "   'representacao': 'TF',\n",
       "   'tamanho': '3k'})]"
      ]
     },
     "execution_count": 5,
     "metadata": {},
     "output_type": "execute_result"
    }
   ],
   "source": [
    "resp[-10:-1]"
   ]
  },
  {
   "cell_type": "markdown",
   "metadata": {},
   "source": [
    "# Resumo da amostragem Reuters"
   ]
  },
  {
   "cell_type": "code",
   "execution_count": 6,
   "metadata": {
    "collapsed": true
   },
   "outputs": [],
   "source": [
    "answers=[]\n",
    "for f in os.listdir(\"../../Objetos/ObjetosProcessadosReutersAmostra/Binario/\"):\n",
    "    answers=answers+pickle.load(open(\"../../Objetos/ObjetosProcessadosReutersAmostra/Binario/\"+f,\"rb\"))\n",
    "\n",
    "for f in os.listdir(\"../../Objetos/ObjetosProcessadosReutersAmostra/TF/\"):\n",
    "    answers=answers+pickle.load(open(\"../../Objetos/ObjetosProcessadosReutersAmostra/TF/\"+f,\"rb\"))\n",
    "\n",
    "for f in os.listdir(\"../../Objetos/ObjetosProcessadosReutersAmostra/TFIDF/\"):\n",
    "    answers=answers+pickle.load(open(\"../../Objetos/ObjetosProcessadosReutersAmostra/TFIDF/\"+f,\"rb\"))\n",
    "\n",
    "for f in os.listdir(\"../../Objetos/ObjetosProcessadosReutersAmostra/Word2Vec/\"):\n",
    "    if \"8\" not in f:\n",
    "        answers=answers+pickle.load(open(\"../../Objetos/ObjetosProcessadosReutersAmostra/Word2Vec/\"+f,\"rb\"))"
   ]
  },
  {
   "cell_type": "code",
   "execution_count": 7,
   "metadata": {
    "collapsed": true
   },
   "outputs": [],
   "source": [
    "resp= sorted(answers,key= lambda x: x[0])"
   ]
  },
  {
   "cell_type": "code",
   "execution_count": 8,
   "metadata": {},
   "outputs": [
    {
     "data": {
      "text/plain": [
       "[(0.3270465732300617,\n",
       "  {'LSA': True,\n",
       "   'algoritmo': 'media',\n",
       "   'corpus': 'bbc',\n",
       "   'distancia': 'cosseno',\n",
       "   'inicializacao': 'padrao',\n",
       "   'ncluster': 2,\n",
       "   'processamento': 'Lemma',\n",
       "   'representacao': 'Word2Vec',\n",
       "   'tamanho': '3k'}),\n",
       " (0.32886555667613732,\n",
       "  {'LSA': True,\n",
       "   'algoritmo': 'media',\n",
       "   'corpus': 'bbc',\n",
       "   'distancia': 'cosseno',\n",
       "   'inicializacao': '++',\n",
       "   'ncluster': 2,\n",
       "   'processamento': 'Normal',\n",
       "   'representacao': 'Word2Vec',\n",
       "   'tamanho': '3k'}),\n",
       " (0.32928365095257733,\n",
       "  {'LSA': True,\n",
       "   'algoritmo': 'media',\n",
       "   'corpus': 'bbc',\n",
       "   'distancia': 'cosseno',\n",
       "   'inicializacao': '++',\n",
       "   'ncluster': 2,\n",
       "   'processamento': 'Lemma',\n",
       "   'representacao': 'Word2Vec',\n",
       "   'tamanho': '3k'}),\n",
       " (0.32974009767000395,\n",
       "  {'LSA': False,\n",
       "   'algoritmo': 'media',\n",
       "   'corpus': 'reuters',\n",
       "   'distancia': 'euclidiana',\n",
       "   'inicializacao': 'x',\n",
       "   'ncluster': 2,\n",
       "   'processamento': 'Lemma',\n",
       "   'representacao': 'TF',\n",
       "   'tamanho': '3k'}),\n",
       " (0.33719374708011829,\n",
       "  {'LSA': False,\n",
       "   'algoritmo': 'media',\n",
       "   'corpus': 'reuters',\n",
       "   'distancia': 'manhattan',\n",
       "   'inicializacao': 'x',\n",
       "   'ncluster': 2,\n",
       "   'processamento': 'Normal',\n",
       "   'representacao': 'TF',\n",
       "   'tamanho': '3k'}),\n",
       " (0.35984248326367985,\n",
       "  {'LSA': True,\n",
       "   'algoritmo': 'media',\n",
       "   'corpus': 'reuters',\n",
       "   'distancia': 'cosseno',\n",
       "   'inicializacao': 'x',\n",
       "   'ncluster': 2,\n",
       "   'processamento': 'Lemma',\n",
       "   'representacao': 'TF',\n",
       "   'tamanho': '3k'}),\n",
       " (0.44082614483157723,\n",
       "  {'LSA': True,\n",
       "   'algoritmo': 'media',\n",
       "   'corpus': 'reuters',\n",
       "   'distancia': 'manhattan',\n",
       "   'inicializacao': 'x',\n",
       "   'ncluster': 2,\n",
       "   'processamento': 'Lemma',\n",
       "   'representacao': 'TF',\n",
       "   'tamanho': '3k'}),\n",
       " (0.46850364668035271,\n",
       "  {'LSA': False,\n",
       "   'algoritmo': 'media',\n",
       "   'corpus': 'reuters',\n",
       "   'distancia': 'cosseno',\n",
       "   'inicializacao': 'x',\n",
       "   'ncluster': 2,\n",
       "   'processamento': 'Lemma',\n",
       "   'representacao': 'TF',\n",
       "   'tamanho': '3k'}),\n",
       " (0.49679668006897898,\n",
       "  {'LSA': True,\n",
       "   'algoritmo': 'media',\n",
       "   'corpus': 'reuters',\n",
       "   'distancia': 'euclidiana',\n",
       "   'inicializacao': 'x',\n",
       "   'ncluster': 2,\n",
       "   'processamento': 'Lemma',\n",
       "   'representacao': 'TF',\n",
       "   'tamanho': '3k'})]"
      ]
     },
     "execution_count": 8,
     "metadata": {},
     "output_type": "execute_result"
    }
   ],
   "source": [
    "resp[-10:-1]"
   ]
  },
  {
   "cell_type": "markdown",
   "metadata": {},
   "source": [
    "# Resumo SOM BBC"
   ]
  },
  {
   "cell_type": "code",
   "execution_count": 9,
   "metadata": {
    "collapsed": true
   },
   "outputs": [],
   "source": [
    "resp=[]\n",
    "for f in os.listdir(\"../../Objetos/Objetos Processados Amostra SOM/BBC\"):\n",
    "    resp=resp+pickle.load(open(\"../../Objetos/Objetos Processados Amostra SOM/BBC/\"+f,\"rb\"))"
   ]
  },
  {
   "cell_type": "code",
   "execution_count": 10,
   "metadata": {
    "collapsed": true
   },
   "outputs": [],
   "source": [
    "resp= sorted(resp,key= lambda x: x[0])"
   ]
  },
  {
   "cell_type": "code",
   "execution_count": 11,
   "metadata": {},
   "outputs": [
    {
     "data": {
      "text/plain": [
       "[(0.21392383958194158,\n",
       "  {'LSA': True,\n",
       "   'a_cooling': 'linear',\n",
       "   'corpus': 'bbc',\n",
       "   'grid_size': 7,\n",
       "   'learning_rate': 0.7,\n",
       "   'ncluster': 4,\n",
       "   'neighboorhood_radius': 3,\n",
       "   'processamento': 'Normal',\n",
       "   'r_cooling': 'linear',\n",
       "   'representacao': 'TFIDF',\n",
       "   'tamanho': '3k'}),\n",
       " (0.22012433710213719,\n",
       "  {'LSA': True,\n",
       "   'a_cooling': 'linear',\n",
       "   'corpus': 'bbc',\n",
       "   'grid_size': 7,\n",
       "   'learning_rate': 0.4,\n",
       "   'ncluster': 4,\n",
       "   'neighboorhood_radius': 3,\n",
       "   'processamento': 'Normal',\n",
       "   'r_cooling': 'linear',\n",
       "   'representacao': 'TFIDF',\n",
       "   'tamanho': '3k'}),\n",
       " (0.22582912037014199,\n",
       "  {'LSA': True,\n",
       "   'a_cooling': 'linear',\n",
       "   'corpus': 'bbc',\n",
       "   'grid_size': 7,\n",
       "   'learning_rate': 0.4,\n",
       "   'ncluster': 4,\n",
       "   'neighboorhood_radius': 3,\n",
       "   'processamento': 'Normal',\n",
       "   'r_cooling': 'linear',\n",
       "   'representacao': 'TFIDF',\n",
       "   'tamanho': '3k'}),\n",
       " (0.23607471421272327,\n",
       "  {'LSA': True,\n",
       "   'a_cooling': 'linear',\n",
       "   'corpus': 'bbc',\n",
       "   'grid_size': 10,\n",
       "   'learning_rate': 0.4,\n",
       "   'ncluster': 3,\n",
       "   'neighboorhood_radius': 5,\n",
       "   'processamento': 'Normal',\n",
       "   'r_cooling': 'linear',\n",
       "   'representacao': 'TF',\n",
       "   'tamanho': '3k'}),\n",
       " (0.23881138968768886,\n",
       "  {'LSA': True,\n",
       "   'a_cooling': 'linear',\n",
       "   'corpus': 'bbc',\n",
       "   'grid_size': 7,\n",
       "   'learning_rate': 0.7,\n",
       "   'ncluster': 4,\n",
       "   'neighboorhood_radius': 3,\n",
       "   'processamento': 'Lemma',\n",
       "   'r_cooling': 'linear',\n",
       "   'representacao': 'TFIDF',\n",
       "   'tamanho': '3k'}),\n",
       " (0.26244562635322849,\n",
       "  {'LSA': True,\n",
       "   'a_cooling': 'linear',\n",
       "   'corpus': 'bbc',\n",
       "   'grid_size': 10,\n",
       "   'learning_rate': 0.1,\n",
       "   'ncluster': 3,\n",
       "   'neighboorhood_radius': 5,\n",
       "   'processamento': 'Normal',\n",
       "   'r_cooling': 'linear',\n",
       "   'representacao': 'TF',\n",
       "   'tamanho': '3k'}),\n",
       " (0.45594433980831439,\n",
       "  {'LSA': True,\n",
       "   'a_cooling': 'exponential',\n",
       "   'corpus': 'bbc',\n",
       "   'grid_size': 7,\n",
       "   'learning_rate': 0.4,\n",
       "   'ncluster': 2,\n",
       "   'neighboorhood_radius': 2,\n",
       "   'processamento': 'Lemma',\n",
       "   'r_cooling': 'linear',\n",
       "   'representacao': 'TFIDF',\n",
       "   'tamanho': '3k'}),\n",
       " (0.46399747893808663,\n",
       "  {'LSA': True,\n",
       "   'a_cooling': 'linear',\n",
       "   'corpus': 'bbc',\n",
       "   'grid_size': 7,\n",
       "   'learning_rate': 0.4,\n",
       "   'ncluster': 2,\n",
       "   'neighboorhood_radius': 3,\n",
       "   'processamento': 'Normal',\n",
       "   'r_cooling': 'linear',\n",
       "   'representacao': 'TFIDF',\n",
       "   'tamanho': '3k'}),\n",
       " (0.48257870790747892,\n",
       "  {'LSA': False,\n",
       "   'a_cooling': 'exponential',\n",
       "   'corpus': 'bbc',\n",
       "   'grid_size': 10,\n",
       "   'learning_rate': 0.1,\n",
       "   'ncluster': 2,\n",
       "   'neighboorhood_radius': 5,\n",
       "   'processamento': 'Normal',\n",
       "   'r_cooling': 'linear',\n",
       "   'representacao': 'TF',\n",
       "   'tamanho': '3k'})]"
      ]
     },
     "execution_count": 11,
     "metadata": {},
     "output_type": "execute_result"
    }
   ],
   "source": [
    "resp[-10:-1]"
   ]
  },
  {
   "cell_type": "markdown",
   "metadata": {},
   "source": [
    "# Resumo Reuters SOM"
   ]
  },
  {
   "cell_type": "code",
   "execution_count": 12,
   "metadata": {
    "collapsed": true
   },
   "outputs": [],
   "source": [
    "resp=[]\n",
    "for f in os.listdir(\"../../Objetos/ObjetosProcessadosReutersAmostraSOM/REUTERS\"):\n",
    "    resp=resp+pickle.load(open(\"../../Objetos/ObjetosProcessadosReutersAmostraSOM/REUTERS/\"+f,\"rb\"))"
   ]
  },
  {
   "cell_type": "code",
   "execution_count": 13,
   "metadata": {
    "collapsed": true
   },
   "outputs": [],
   "source": [
    "resp= sorted(resp,key= lambda x: x[0])"
   ]
  },
  {
   "cell_type": "code",
   "execution_count": 14,
   "metadata": {},
   "outputs": [
    {
     "data": {
      "text/plain": [
       "[(0.24507177449078607,\n",
       "  {'LSA': True,\n",
       "   'a_cooling': 'linear',\n",
       "   'corpus': 'reuters',\n",
       "   'grid_size': 7,\n",
       "   'learning_rate': 0.4,\n",
       "   'ncluster': 6,\n",
       "   'neighboorhood_radius': 2,\n",
       "   'processamento': 'Lemma',\n",
       "   'r_cooling': 'linear',\n",
       "   'representacao': 'TFIDF',\n",
       "   'tamanho': '3k'}),\n",
       " (0.25189682401311653,\n",
       "  {'LSA': True,\n",
       "   'a_cooling': 'exponential',\n",
       "   'corpus': 'reuters',\n",
       "   'grid_size': 14,\n",
       "   'learning_rate': 0.1,\n",
       "   'ncluster': 2,\n",
       "   'neighboorhood_radius': 7,\n",
       "   'processamento': 'Lemma',\n",
       "   'r_cooling': 'linear',\n",
       "   'representacao': 'TFIDF',\n",
       "   'tamanho': '3k'}),\n",
       " (0.25587962861229607,\n",
       "  {'LSA': True,\n",
       "   'a_cooling': 'linear',\n",
       "   'corpus': 'reuters',\n",
       "   'grid_size': 14,\n",
       "   'learning_rate': 0.7,\n",
       "   'ncluster': 2,\n",
       "   'neighboorhood_radius': 7,\n",
       "   'processamento': 'Normal',\n",
       "   'r_cooling': 'linear',\n",
       "   'representacao': 'TF',\n",
       "   'tamanho': '3k'}),\n",
       " (0.25996494880875426,\n",
       "  {'LSA': True,\n",
       "   'a_cooling': 'exponential',\n",
       "   'corpus': 'reuters',\n",
       "   'grid_size': 14,\n",
       "   'learning_rate': 0.1,\n",
       "   'ncluster': 3,\n",
       "   'neighboorhood_radius': 7,\n",
       "   'processamento': 'Lemma',\n",
       "   'r_cooling': 'linear',\n",
       "   'representacao': 'TFIDF',\n",
       "   'tamanho': '3k'}),\n",
       " (0.26321445108184627,\n",
       "  {'LSA': True,\n",
       "   'a_cooling': 'exponential',\n",
       "   'corpus': 'reuters',\n",
       "   'grid_size': 10,\n",
       "   'learning_rate': 0.4,\n",
       "   'ncluster': 2,\n",
       "   'neighboorhood_radius': 5,\n",
       "   'processamento': 'Lemma',\n",
       "   'r_cooling': 'linear',\n",
       "   'representacao': 'TFIDF',\n",
       "   'tamanho': '3k'}),\n",
       " (0.26492605992642548,\n",
       "  {'LSA': True,\n",
       "   'a_cooling': 'linear',\n",
       "   'corpus': 'reuters',\n",
       "   'grid_size': 7,\n",
       "   'learning_rate': 0.7,\n",
       "   'ncluster': 2,\n",
       "   'neighboorhood_radius': 2,\n",
       "   'processamento': 'Lemma',\n",
       "   'r_cooling': 'linear',\n",
       "   'representacao': 'TFIDF',\n",
       "   'tamanho': '3k'}),\n",
       " (0.26986928729866994,\n",
       "  {'LSA': True,\n",
       "   'a_cooling': 'exponential',\n",
       "   'corpus': 'reuters',\n",
       "   'grid_size': 14,\n",
       "   'learning_rate': 0.1,\n",
       "   'ncluster': 3,\n",
       "   'neighboorhood_radius': 7,\n",
       "   'processamento': 'Lemma',\n",
       "   'r_cooling': 'linear',\n",
       "   'representacao': 'TFIDF',\n",
       "   'tamanho': '3k'}),\n",
       " (0.27539720986870475,\n",
       "  {'LSA': True,\n",
       "   'a_cooling': 'linear',\n",
       "   'corpus': 'reuters',\n",
       "   'grid_size': 7,\n",
       "   'learning_rate': 0.7,\n",
       "   'ncluster': 2,\n",
       "   'neighboorhood_radius': 2,\n",
       "   'processamento': 'Normal',\n",
       "   'r_cooling': 'linear',\n",
       "   'representacao': 'TF',\n",
       "   'tamanho': '3k'}),\n",
       " (0.29708021195045248,\n",
       "  {'LSA': True,\n",
       "   'a_cooling': 'exponential',\n",
       "   'corpus': 'reuters',\n",
       "   'grid_size': 10,\n",
       "   'learning_rate': 0.4,\n",
       "   'ncluster': 3,\n",
       "   'neighboorhood_radius': 5,\n",
       "   'processamento': 'Lemma',\n",
       "   'r_cooling': 'linear',\n",
       "   'representacao': 'TFIDF',\n",
       "   'tamanho': '3k'})]"
      ]
     },
     "execution_count": 14,
     "metadata": {},
     "output_type": "execute_result"
    }
   ],
   "source": [
    "resp[-10:-1]"
   ]
  }
 ],
 "metadata": {
  "kernelspec": {
   "display_name": "Python 3",
   "language": "python",
   "name": "python3"
  },
  "language_info": {
   "codemirror_mode": {
    "name": "ipython",
    "version": 3
   },
   "file_extension": ".py",
   "mimetype": "text/x-python",
   "name": "python",
   "nbconvert_exporter": "python",
   "pygments_lexer": "ipython3",
   "version": "3.6.0"
  }
 },
 "nbformat": 4,
 "nbformat_minor": 2
}
