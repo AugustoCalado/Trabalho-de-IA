{
 "cells": [
  {
   "cell_type": "code",
   "execution_count": 1,
   "metadata": {
    "collapsed": true
   },
   "outputs": [],
   "source": [
    "import numpy as np\n",
    "import matplotlib.pyplot as plt\n",
    "import os\n",
    "import pickle"
   ]
  },
  {
   "cell_type": "code",
   "execution_count": 2,
   "metadata": {
    "collapsed": true
   },
   "outputs": [],
   "source": [
    "\n",
    "\n",
    "class IncrementalDict(dict):\n",
    "    def __missing__(self, key):\n",
    "        return 0\n",
    "\n",
    "def mergeAnsDuplicates(ans):\n",
    "    real_keys = [*ans[0][1].keys()]\n",
    "    new_answer = []\n",
    "    repeated_ans_sums = IncrementalDict()\n",
    "    repetition_counts = IncrementalDict()\n",
    "    for i in range(len(ans)):\n",
    "        tupl = ans[i]\n",
    "        cur_params = tuple(tupl[1].values())\n",
    "        repeated_ans_sums[cur_params] += tupl[0]\n",
    "        repetition_counts[cur_params] += 1\n",
    "    for param_set in repeated_ans_sums.keys():\n",
    "        repeated_ans_sums[param_set] /= repetition_counts[param_set]\n",
    "        aux_dict = dict()\n",
    "        for i in range(len(real_keys)):\n",
    "            aux_dict[real_keys[i]] = param_set[i]\n",
    "        new_answer.append((repeated_ans_sums[param_set], aux_dict))\n",
    "\n",
    "    return new_answer, repetition_counts\n"
   ]
  },
  {
   "cell_type": "code",
   "execution_count": 3,
   "metadata": {
    "collapsed": true
   },
   "outputs": [],
   "source": [
    "def conserto_som(ans):\n",
    "    flag=True\n",
    "    for i,a in enumerate(ans):\n",
    "        if i == len(ans)/2:\n",
    "            flag=False\n",
    "        if(flag):\n",
    "            a[1]['neighborhood']='gaussian'\n",
    "        else:\n",
    "            a[1]['neighborhood']='bubble'\n",
    "    return ans\n",
    "        "
   ]
  },
  {
   "cell_type": "markdown",
   "metadata": {},
   "source": [
    "# Resumo da Amostragem BBC\n"
   ]
  },
  {
   "cell_type": "code",
   "execution_count": 4,
   "metadata": {
    "collapsed": true
   },
   "outputs": [],
   "source": [
    "answers=[]\n",
    "for f in os.listdir(\"../../Objetos/Objetos Processados Amostra/Binario/\"):\n",
    "    answers=answers+pickle.load(open(\"../../Objetos/Objetos Processados Amostra/Binario/\"+f,\"rb\"))\n",
    "\n",
    "for f in os.listdir(\"../../Objetos/Objetos Processados Amostra/TF/\"):\n",
    "    if \"8\" not in f:\n",
    "        answers=answers+pickle.load(open(\"../../Objetos/Objetos Processados Amostra/TF/\"+f,\"rb\"))\n",
    "\n",
    "for f in os.listdir(\"../../Objetos/Objetos Processados Amostra/Word2Vec/\"):\n",
    "    if \"8\" not in f:\n",
    "        answers=answers+pickle.load(open(\"../../Objetos/Objetos Processados Amostra/Word2Vec/\"+f,\"rb\"))\n",
    "\n",
    "for f in os.listdir(\"../../Objetos/Objetos Processados Amostra/TFIDF/\"):\n",
    "    if \"8\" not in f:\n",
    "        answers=answers+pickle.load(open(\"../../Objetos/Objetos Processados Amostra/TFIDF/\"+f,\"rb\"))"
   ]
  },
  {
   "cell_type": "markdown",
   "metadata": {},
   "source": [
    "Os melhores resultados do silhueta"
   ]
  },
  {
   "cell_type": "code",
   "execution_count": 5,
   "metadata": {
    "collapsed": true
   },
   "outputs": [],
   "source": [
    "resp= answers"
   ]
  },
  {
   "cell_type": "code",
   "execution_count": 6,
   "metadata": {
    "collapsed": true
   },
   "outputs": [],
   "source": [
    "resp= sorted(resp,key= lambda x: x[0])"
   ]
  },
  {
   "cell_type": "code",
   "execution_count": 7,
   "metadata": {
    "scrolled": true
   },
   "outputs": [
    {
     "data": {
      "text/plain": [
       "[(0.17348930388890527,\n",
       "  {'LSA': True,\n",
       "   'algoritmo': 'media',\n",
       "   'corpus': 'bbc',\n",
       "   'distancia': 'euclidiana',\n",
       "   'inicializacao': '++',\n",
       "   'ncluster': 2,\n",
       "   'processamento': 'Lemma',\n",
       "   'representacao': 'TF',\n",
       "   'tamanho': '3k'}),\n",
       " (0.17592454967187623,\n",
       "  {'LSA': True,\n",
       "   'algoritmo': 'media',\n",
       "   'corpus': 'bbc',\n",
       "   'distancia': 'euclidiana',\n",
       "   'inicializacao': '++',\n",
       "   'ncluster': 7,\n",
       "   'processamento': 'Lemma',\n",
       "   'representacao': 'TFIDF',\n",
       "   'tamanho': '3k'}),\n",
       " (0.17930798376732812,\n",
       "  {'LSA': True,\n",
       "   'algoritmo': 'media',\n",
       "   'corpus': 'bbc',\n",
       "   'distancia': 'euclidiana',\n",
       "   'inicializacao': '++',\n",
       "   'ncluster': 2,\n",
       "   'processamento': 'Normal',\n",
       "   'representacao': 'TF',\n",
       "   'tamanho': '3k'}),\n",
       " (0.19320850872478482,\n",
       "  {'LSA': True,\n",
       "   'algoritmo': 'media',\n",
       "   'corpus': 'bbc',\n",
       "   'distancia': 'euclidiana',\n",
       "   'inicializacao': 'x',\n",
       "   'ncluster': 2,\n",
       "   'processamento': 'Lemma',\n",
       "   'representacao': 'Binario',\n",
       "   'tamanho': '3k'}),\n",
       " (0.1951861276517553,\n",
       "  {'LSA': True,\n",
       "   'algoritmo': 'media',\n",
       "   'corpus': 'bbc',\n",
       "   'distancia': 'cosseno',\n",
       "   'inicializacao': 'x',\n",
       "   'ncluster': 2,\n",
       "   'processamento': 'Normal',\n",
       "   'representacao': 'TF',\n",
       "   'tamanho': '3k'}),\n",
       " (0.19620413618620361,\n",
       "  {'LSA': True,\n",
       "   'algoritmo': 'media',\n",
       "   'corpus': 'bbc',\n",
       "   'distancia': 'euclidiana',\n",
       "   'inicializacao': '++',\n",
       "   'ncluster': 7,\n",
       "   'processamento': 'Normal',\n",
       "   'representacao': 'TFIDF',\n",
       "   'tamanho': '3k'}),\n",
       " (0.20845513049596892,\n",
       "  {'LSA': True,\n",
       "   'algoritmo': 'media',\n",
       "   'corpus': 'bbc',\n",
       "   'distancia': 'cosseno',\n",
       "   'inicializacao': 'x',\n",
       "   'ncluster': 2,\n",
       "   'processamento': 'Normal',\n",
       "   'representacao': 'Binario',\n",
       "   'tamanho': '3k'}),\n",
       " (0.20892315833738651,\n",
       "  {'LSA': True,\n",
       "   'algoritmo': 'media',\n",
       "   'corpus': 'bbc',\n",
       "   'distancia': 'cosseno',\n",
       "   'inicializacao': 'x',\n",
       "   'ncluster': 2,\n",
       "   'processamento': 'Lemma',\n",
       "   'representacao': 'Binario',\n",
       "   'tamanho': '3k'}),\n",
       " (0.21634468155489395,\n",
       "  {'LSA': True,\n",
       "   'algoritmo': 'media',\n",
       "   'corpus': 'bbc',\n",
       "   'distancia': 'manhattan',\n",
       "   'inicializacao': 'x',\n",
       "   'ncluster': 2,\n",
       "   'processamento': 'Normal',\n",
       "   'representacao': 'Binario',\n",
       "   'tamanho': '3k'}),\n",
       " (0.26845698199871038,\n",
       "  {'LSA': True,\n",
       "   'algoritmo': 'media',\n",
       "   'corpus': 'bbc',\n",
       "   'distancia': 'euclidiana',\n",
       "   'inicializacao': 'x',\n",
       "   'ncluster': 2,\n",
       "   'processamento': 'Normal',\n",
       "   'representacao': 'Binario',\n",
       "   'tamanho': '3k'})]"
      ]
     },
     "execution_count": 7,
     "metadata": {},
     "output_type": "execute_result"
    }
   ],
   "source": [
    "resp[-10:]"
   ]
  },
  {
   "cell_type": "markdown",
   "metadata": {},
   "source": [
    "Os melhores resultados para o numero de cluster = 5"
   ]
  },
  {
   "cell_type": "code",
   "execution_count": 8,
   "metadata": {},
   "outputs": [
    {
     "data": {
      "text/plain": [
       "[(0.15873414459248172,\n",
       "  {'LSA': True,\n",
       "   'algoritmo': 'media',\n",
       "   'corpus': 'bbc',\n",
       "   'distancia': 'euclidiana',\n",
       "   'inicializacao': 'padrao',\n",
       "   'ncluster': 5,\n",
       "   'processamento': 'Normal',\n",
       "   'representacao': 'Word2Vec',\n",
       "   'tamanho': '3k'}),\n",
       " (0.16003480290696015,\n",
       "  {'LSA': True,\n",
       "   'algoritmo': 'media',\n",
       "   'corpus': 'bbc',\n",
       "   'distancia': 'cosseno',\n",
       "   'inicializacao': 'padrao',\n",
       "   'ncluster': 5,\n",
       "   'processamento': 'Lemma',\n",
       "   'representacao': 'Word2Vec',\n",
       "   'tamanho': '3k'}),\n",
       " (0.16032132310925679,\n",
       "  {'LSA': True,\n",
       "   'algoritmo': 'media',\n",
       "   'corpus': 'bbc',\n",
       "   'distancia': 'cosseno',\n",
       "   'inicializacao': '++',\n",
       "   'ncluster': 5,\n",
       "   'processamento': 'Normal',\n",
       "   'representacao': 'Word2Vec',\n",
       "   'tamanho': '3k'})]"
      ]
     },
     "execution_count": 8,
     "metadata": {},
     "output_type": "execute_result"
    }
   ],
   "source": [
    "a=[i for i in resp if i[1]['ncluster']==5]\n",
    "sorted(a,key= lambda x: x[0])[-3:]"
   ]
  },
  {
   "cell_type": "markdown",
   "metadata": {},
   "source": [
    "# Resumo da amostragem Reuters"
   ]
  },
  {
   "cell_type": "code",
   "execution_count": 9,
   "metadata": {
    "collapsed": true
   },
   "outputs": [],
   "source": [
    "answers=[]\n",
    "for f in os.listdir(\"../../Objetos/ObjetosProcessadosReutersAmostra/Binario/\"):\n",
    "    answers=answers+pickle.load(open(\"../../Objetos/ObjetosProcessadosReutersAmostra/Binario/\"+f,\"rb\"))\n",
    "\n",
    "for f in os.listdir(\"../../Objetos/ObjetosProcessadosReutersAmostra/TF/\"):\n",
    "    answers=answers+pickle.load(open(\"../../Objetos/ObjetosProcessadosReutersAmostra/TF/\"+f,\"rb\"))\n",
    "\n",
    "for f in os.listdir(\"../../Objetos/ObjetosProcessadosReutersAmostra/TFIDF/\"):\n",
    "    answers=answers+pickle.load(open(\"../../Objetos/ObjetosProcessadosReutersAmostra/TFIDF/\"+f,\"rb\"))\n",
    "\n",
    "for f in os.listdir(\"../../Objetos/ObjetosProcessadosReutersAmostra/Word2Vec/\"):\n",
    "    if \"8\" not in f:\n",
    "        answers=answers+pickle.load(open(\"../../Objetos/ObjetosProcessadosReutersAmostra/Word2Vec/\"+f,\"rb\"))"
   ]
  },
  {
   "cell_type": "code",
   "execution_count": 10,
   "metadata": {
    "collapsed": true
   },
   "outputs": [],
   "source": [
    "resp= sorted(answers,key= lambda x: x[0])"
   ]
  },
  {
   "cell_type": "code",
   "execution_count": 11,
   "metadata": {},
   "outputs": [
    {
     "data": {
      "text/plain": [
       "[(0.31719721257161204,\n",
       "  {'LSA': True,\n",
       "   'algoritmo': 'media',\n",
       "   'corpus': 'reuters',\n",
       "   'distancia': 'cosseno',\n",
       "   'inicializacao': 'x',\n",
       "   'ncluster': 2,\n",
       "   'processamento': 'Lemma',\n",
       "   'representacao': 'Word2Vec',\n",
       "   'tamanho': '3k'}),\n",
       " (0.31980003383257738,\n",
       "  {'LSA': True,\n",
       "   'algoritmo': 'media',\n",
       "   'corpus': 'bbc',\n",
       "   'distancia': 'euclidiana',\n",
       "   'inicializacao': 'padrao',\n",
       "   'ncluster': 2,\n",
       "   'processamento': 'Normal',\n",
       "   'representacao': 'Word2Vec',\n",
       "   'tamanho': '3k'}),\n",
       " (0.31980003383257738,\n",
       "  {'LSA': True,\n",
       "   'algoritmo': 'media',\n",
       "   'corpus': 'bbc',\n",
       "   'distancia': 'euclidiana',\n",
       "   'inicializacao': '++',\n",
       "   'ncluster': 2,\n",
       "   'processamento': 'Lemma',\n",
       "   'representacao': 'Word2Vec',\n",
       "   'tamanho': '3k'}),\n",
       " (0.32077070650796319,\n",
       "  {'LSA': False,\n",
       "   'algoritmo': 'media',\n",
       "   'corpus': 'reuters',\n",
       "   'distancia': 'manhattan',\n",
       "   'inicializacao': 'padrao',\n",
       "   'ncluster': 2,\n",
       "   'processamento': 'Lemma',\n",
       "   'representacao': 'TF',\n",
       "   'tamanho': '3k'}),\n",
       " (0.3229770819498935,\n",
       "  {'LSA': True,\n",
       "   'algoritmo': 'media',\n",
       "   'corpus': 'bbc',\n",
       "   'distancia': 'euclidiana',\n",
       "   'inicializacao': '++',\n",
       "   'ncluster': 2,\n",
       "   'processamento': 'Normal',\n",
       "   'representacao': 'Word2Vec',\n",
       "   'tamanho': '3k'}),\n",
       " (0.32456560600855144,\n",
       "  {'LSA': True,\n",
       "   'algoritmo': 'media',\n",
       "   'corpus': 'bbc',\n",
       "   'distancia': 'euclidiana',\n",
       "   'inicializacao': 'padrao',\n",
       "   'ncluster': 2,\n",
       "   'processamento': 'Lemma',\n",
       "   'representacao': 'Word2Vec',\n",
       "   'tamanho': '3k'}),\n",
       " (0.3253476813862613,\n",
       "  {'LSA': True,\n",
       "   'algoritmo': 'media',\n",
       "   'corpus': 'bbc',\n",
       "   'distancia': 'cosseno',\n",
       "   'inicializacao': 'padrao',\n",
       "   'ncluster': 2,\n",
       "   'processamento': 'Normal',\n",
       "   'representacao': 'Word2Vec',\n",
       "   'tamanho': '3k'}),\n",
       " (0.3270465732300617,\n",
       "  {'LSA': True,\n",
       "   'algoritmo': 'media',\n",
       "   'corpus': 'bbc',\n",
       "   'distancia': 'cosseno',\n",
       "   'inicializacao': 'padrao',\n",
       "   'ncluster': 2,\n",
       "   'processamento': 'Lemma',\n",
       "   'representacao': 'Word2Vec',\n",
       "   'tamanho': '3k'}),\n",
       " (0.32886555667613732,\n",
       "  {'LSA': True,\n",
       "   'algoritmo': 'media',\n",
       "   'corpus': 'bbc',\n",
       "   'distancia': 'cosseno',\n",
       "   'inicializacao': '++',\n",
       "   'ncluster': 2,\n",
       "   'processamento': 'Normal',\n",
       "   'representacao': 'Word2Vec',\n",
       "   'tamanho': '3k'}),\n",
       " (0.32928365095257733,\n",
       "  {'LSA': True,\n",
       "   'algoritmo': 'media',\n",
       "   'corpus': 'bbc',\n",
       "   'distancia': 'cosseno',\n",
       "   'inicializacao': '++',\n",
       "   'ncluster': 2,\n",
       "   'processamento': 'Lemma',\n",
       "   'representacao': 'Word2Vec',\n",
       "   'tamanho': '3k'})]"
      ]
     },
     "execution_count": 11,
     "metadata": {},
     "output_type": "execute_result"
    }
   ],
   "source": [
    "resp[-10:]"
   ]
  },
  {
   "cell_type": "markdown",
   "metadata": {},
   "source": [
    "# Resumo SOM BBC"
   ]
  },
  {
   "cell_type": "code",
   "execution_count": 12,
   "metadata": {
    "collapsed": true
   },
   "outputs": [],
   "source": [
    "resp=[]\n",
    "for f in os.listdir(\"../../Objetos/Objetos Processados Amostra SOM/BBC\"):\n",
    "    resp=resp+pickle.load(open(\"../../Objetos/Objetos Processados Amostra SOM/BBC/\"+f,\"rb\"))"
   ]
  },
  {
   "cell_type": "code",
   "execution_count": 13,
   "metadata": {
    "collapsed": true
   },
   "outputs": [],
   "source": [
    "resp= sorted(mergeAnsDuplicates(conserto_som(resp))[0],key= lambda x: x[0])"
   ]
  },
  {
   "cell_type": "markdown",
   "metadata": {},
   "source": [
    "Os melhores resultados silhueta"
   ]
  },
  {
   "cell_type": "code",
   "execution_count": 14,
   "metadata": {},
   "outputs": [
    {
     "data": {
      "text/plain": [
       "[(0.18869866894778073,\n",
       "  {'LSA': True,\n",
       "   'a_cooling': 'linear',\n",
       "   'corpus': 'bbc',\n",
       "   'grid_size': 10,\n",
       "   'learning_rate': 0.7,\n",
       "   'ncluster': 2,\n",
       "   'neighboorhood_radius': 2,\n",
       "   'neighborhood': 'bubble',\n",
       "   'processamento': 'Normal',\n",
       "   'r_cooling': 'linear',\n",
       "   'representacao': 'TF',\n",
       "   'tamanho': '3k'}),\n",
       " (0.20624761652216267,\n",
       "  {'LSA': True,\n",
       "   'a_cooling': 'linear',\n",
       "   'corpus': 'bbc',\n",
       "   'grid_size': 7,\n",
       "   'learning_rate': 0.4,\n",
       "   'ncluster': 5,\n",
       "   'neighboorhood_radius': 3,\n",
       "   'neighborhood': 'bubble',\n",
       "   'processamento': 'Normal',\n",
       "   'r_cooling': 'linear',\n",
       "   'representacao': 'TFIDF',\n",
       "   'tamanho': '3k'}),\n",
       " (0.22297672873613961,\n",
       "  {'LSA': True,\n",
       "   'a_cooling': 'linear',\n",
       "   'corpus': 'bbc',\n",
       "   'grid_size': 7,\n",
       "   'learning_rate': 0.4,\n",
       "   'ncluster': 4,\n",
       "   'neighboorhood_radius': 3,\n",
       "   'neighborhood': 'bubble',\n",
       "   'processamento': 'Normal',\n",
       "   'r_cooling': 'linear',\n",
       "   'representacao': 'TFIDF',\n",
       "   'tamanho': '3k'}),\n",
       " (0.23910401583602339,\n",
       "  {'LSA': True,\n",
       "   'a_cooling': 'linear',\n",
       "   'corpus': 'bbc',\n",
       "   'grid_size': 7,\n",
       "   'learning_rate': 0.4,\n",
       "   'ncluster': 2,\n",
       "   'neighboorhood_radius': 3,\n",
       "   'neighborhood': 'bubble',\n",
       "   'processamento': 'Normal',\n",
       "   'r_cooling': 'linear',\n",
       "   'representacao': 'TFIDF',\n",
       "   'tamanho': '3k'}),\n",
       " (0.24699202126567679,\n",
       "  {'LSA': False,\n",
       "   'a_cooling': 'exponential',\n",
       "   'corpus': 'bbc',\n",
       "   'grid_size': 14,\n",
       "   'learning_rate': 0.4,\n",
       "   'ncluster': 2,\n",
       "   'neighboorhood_radius': 7,\n",
       "   'neighborhood': 'gaussian',\n",
       "   'processamento': 'Normal',\n",
       "   'r_cooling': 'linear',\n",
       "   'representacao': 'TF',\n",
       "   'tamanho': '3k'}),\n",
       " (0.25132333765354692,\n",
       "  {'LSA': False,\n",
       "   'a_cooling': 'linear',\n",
       "   'corpus': 'bbc',\n",
       "   'grid_size': 10,\n",
       "   'learning_rate': 0.4,\n",
       "   'ncluster': 2,\n",
       "   'neighboorhood_radius': 2,\n",
       "   'neighborhood': 'gaussian',\n",
       "   'processamento': 'Normal',\n",
       "   'r_cooling': 'linear',\n",
       "   'representacao': 'TF',\n",
       "   'tamanho': '3k'}),\n",
       " (0.25539921447252878,\n",
       "  {'LSA': False,\n",
       "   'a_cooling': 'exponential',\n",
       "   'corpus': 'bbc',\n",
       "   'grid_size': 10,\n",
       "   'learning_rate': 0.4,\n",
       "   'ncluster': 2,\n",
       "   'neighboorhood_radius': 2,\n",
       "   'neighborhood': 'gaussian',\n",
       "   'processamento': 'Normal',\n",
       "   'r_cooling': 'linear',\n",
       "   'representacao': 'TF',\n",
       "   'tamanho': '3k'}),\n",
       " (0.25958715501948315,\n",
       "  {'LSA': True,\n",
       "   'a_cooling': 'exponential',\n",
       "   'corpus': 'bbc',\n",
       "   'grid_size': 7,\n",
       "   'learning_rate': 0.4,\n",
       "   'ncluster': 2,\n",
       "   'neighboorhood_radius': 2,\n",
       "   'neighborhood': 'bubble',\n",
       "   'processamento': 'Lemma',\n",
       "   'r_cooling': 'linear',\n",
       "   'representacao': 'TFIDF',\n",
       "   'tamanho': '3k'}),\n",
       " (0.26328295359270193,\n",
       "  {'LSA': False,\n",
       "   'a_cooling': 'exponential',\n",
       "   'corpus': 'bbc',\n",
       "   'grid_size': 10,\n",
       "   'learning_rate': 0.1,\n",
       "   'ncluster': 2,\n",
       "   'neighboorhood_radius': 5,\n",
       "   'neighborhood': 'gaussian',\n",
       "   'processamento': 'Normal',\n",
       "   'r_cooling': 'linear',\n",
       "   'representacao': 'TF',\n",
       "   'tamanho': '3k'}),\n",
       " (0.33472002302178072,\n",
       "  {'LSA': True,\n",
       "   'a_cooling': 'exponential',\n",
       "   'corpus': 'bbc',\n",
       "   'grid_size': 10,\n",
       "   'learning_rate': 0.1,\n",
       "   'ncluster': 2,\n",
       "   'neighboorhood_radius': 2,\n",
       "   'neighborhood': 'gaussian',\n",
       "   'processamento': 'Normal',\n",
       "   'r_cooling': 'linear',\n",
       "   'representacao': 'TF',\n",
       "   'tamanho': '3k'})]"
      ]
     },
     "execution_count": 14,
     "metadata": {},
     "output_type": "execute_result"
    }
   ],
   "source": [
    "resp[-10:]"
   ]
  },
  {
   "cell_type": "markdown",
   "metadata": {},
   "source": [
    "Os melhores resultados ncluster=5"
   ]
  },
  {
   "cell_type": "code",
   "execution_count": 15,
   "metadata": {},
   "outputs": [
    {
     "data": {
      "text/plain": [
       "[(0.12126515528451767,\n",
       "  {'LSA': True,\n",
       "   'a_cooling': 'exponential',\n",
       "   'corpus': 'bbc',\n",
       "   'grid_size': 7,\n",
       "   'learning_rate': 0.4,\n",
       "   'ncluster': 5,\n",
       "   'neighboorhood_radius': 2,\n",
       "   'neighborhood': 'bubble',\n",
       "   'processamento': 'Lemma',\n",
       "   'r_cooling': 'linear',\n",
       "   'representacao': 'TFIDF',\n",
       "   'tamanho': '3k'}),\n",
       " (0.1454077541425996,\n",
       "  {'LSA': True,\n",
       "   'a_cooling': 'exponential',\n",
       "   'corpus': 'bbc',\n",
       "   'grid_size': 14,\n",
       "   'learning_rate': 0.1,\n",
       "   'ncluster': 5,\n",
       "   'neighboorhood_radius': 2,\n",
       "   'neighborhood': 'bubble',\n",
       "   'processamento': 'Lemma',\n",
       "   'r_cooling': 'linear',\n",
       "   'representacao': 'TFIDF',\n",
       "   'tamanho': '3k'}),\n",
       " (0.20624761652216267,\n",
       "  {'LSA': True,\n",
       "   'a_cooling': 'linear',\n",
       "   'corpus': 'bbc',\n",
       "   'grid_size': 7,\n",
       "   'learning_rate': 0.4,\n",
       "   'ncluster': 5,\n",
       "   'neighboorhood_radius': 3,\n",
       "   'neighborhood': 'bubble',\n",
       "   'processamento': 'Normal',\n",
       "   'r_cooling': 'linear',\n",
       "   'representacao': 'TFIDF',\n",
       "   'tamanho': '3k'})]"
      ]
     },
     "execution_count": 15,
     "metadata": {},
     "output_type": "execute_result"
    }
   ],
   "source": [
    "a=[i for i in resp if i[1]['ncluster']==5]\n",
    "sorted(a,key= lambda x: x[0])[-3:]"
   ]
  },
  {
   "cell_type": "markdown",
   "metadata": {},
   "source": [
    "# Resumo Reuters SOM"
   ]
  },
  {
   "cell_type": "code",
   "execution_count": 16,
   "metadata": {
    "collapsed": true
   },
   "outputs": [],
   "source": [
    "resp=[]\n",
    "for f in os.listdir(\"../../Objetos/ObjetosProcessadosReutersAmostraSOM/REUTERS\"):\n",
    "    resp=resp+pickle.load(open(\"../../Objetos/ObjetosProcessadosReutersAmostraSOM/REUTERS/\"+f,\"rb\"))"
   ]
  },
  {
   "cell_type": "code",
   "execution_count": 17,
   "metadata": {
    "collapsed": true
   },
   "outputs": [],
   "source": [
    "resp= sorted(mergeAnsDuplicates(conserto_som(resp))[0],key= lambda x: x[0])"
   ]
  },
  {
   "cell_type": "markdown",
   "metadata": {},
   "source": [
    "Os melhores resultados do silhueta"
   ]
  },
  {
   "cell_type": "code",
   "execution_count": 18,
   "metadata": {},
   "outputs": [
    {
     "data": {
      "text/plain": [
       "[(0.22692171701401179,\n",
       "  {'LSA': True,\n",
       "   'a_cooling': 'exponential',\n",
       "   'corpus': 'reuters',\n",
       "   'grid_size': 14,\n",
       "   'learning_rate': 0.1,\n",
       "   'ncluster': 2,\n",
       "   'neighboorhood_radius': 7,\n",
       "   'neighborhood': 'bubble',\n",
       "   'processamento': 'Lemma',\n",
       "   'r_cooling': 'linear',\n",
       "   'representacao': 'TFIDF',\n",
       "   'tamanho': '3k'}),\n",
       " (0.23005177271313365,\n",
       "  {'LSA': False,\n",
       "   'a_cooling': 'linear',\n",
       "   'corpus': 'reuters',\n",
       "   'grid_size': 14,\n",
       "   'learning_rate': 0.7,\n",
       "   'ncluster': 2,\n",
       "   'neighboorhood_radius': 7,\n",
       "   'neighborhood': 'bubble',\n",
       "   'processamento': 'Normal',\n",
       "   'r_cooling': 'linear',\n",
       "   'representacao': 'Word2Vec',\n",
       "   'tamanho': '3k'}),\n",
       " (0.23137121093008384,\n",
       "  {'LSA': True,\n",
       "   'a_cooling': 'linear',\n",
       "   'corpus': 'reuters',\n",
       "   'grid_size': 14,\n",
       "   'learning_rate': 0.4,\n",
       "   'ncluster': 2,\n",
       "   'neighboorhood_radius': 2,\n",
       "   'neighborhood': 'bubble',\n",
       "   'processamento': 'Normal',\n",
       "   'r_cooling': 'linear',\n",
       "   'representacao': 'Word2Vec',\n",
       "   'tamanho': '3k'}),\n",
       " (0.25552962417741792,\n",
       "  {'LSA': True,\n",
       "   'a_cooling': 'linear',\n",
       "   'corpus': 'reuters',\n",
       "   'grid_size': 14,\n",
       "   'learning_rate': 0.1,\n",
       "   'ncluster': 2,\n",
       "   'neighboorhood_radius': 7,\n",
       "   'neighborhood': 'bubble',\n",
       "   'processamento': 'Normal',\n",
       "   'r_cooling': 'linear',\n",
       "   'representacao': 'Word2Vec',\n",
       "   'tamanho': '3k'}),\n",
       " (0.25587962861229607,\n",
       "  {'LSA': True,\n",
       "   'a_cooling': 'linear',\n",
       "   'corpus': 'reuters',\n",
       "   'grid_size': 14,\n",
       "   'learning_rate': 0.7,\n",
       "   'ncluster': 2,\n",
       "   'neighboorhood_radius': 7,\n",
       "   'neighborhood': 'gaussian',\n",
       "   'processamento': 'Normal',\n",
       "   'r_cooling': 'linear',\n",
       "   'representacao': 'TF',\n",
       "   'tamanho': '3k'}),\n",
       " (0.2649171180537121,\n",
       "  {'LSA': True,\n",
       "   'a_cooling': 'exponential',\n",
       "   'corpus': 'reuters',\n",
       "   'grid_size': 14,\n",
       "   'learning_rate': 0.1,\n",
       "   'ncluster': 3,\n",
       "   'neighboorhood_radius': 7,\n",
       "   'neighborhood': 'bubble',\n",
       "   'processamento': 'Lemma',\n",
       "   'r_cooling': 'linear',\n",
       "   'representacao': 'TFIDF',\n",
       "   'tamanho': '3k'}),\n",
       " (0.27539720986870475,\n",
       "  {'LSA': True,\n",
       "   'a_cooling': 'linear',\n",
       "   'corpus': 'reuters',\n",
       "   'grid_size': 7,\n",
       "   'learning_rate': 0.7,\n",
       "   'ncluster': 2,\n",
       "   'neighboorhood_radius': 2,\n",
       "   'neighborhood': 'gaussian',\n",
       "   'processamento': 'Normal',\n",
       "   'r_cooling': 'linear',\n",
       "   'representacao': 'TF',\n",
       "   'tamanho': '3k'}),\n",
       " (0.27789227757327484,\n",
       "  {'LSA': False,\n",
       "   'a_cooling': 'exponential',\n",
       "   'corpus': 'reuters',\n",
       "   'grid_size': 14,\n",
       "   'learning_rate': 0.1,\n",
       "   'ncluster': 2,\n",
       "   'neighboorhood_radius': 7,\n",
       "   'neighborhood': 'bubble',\n",
       "   'processamento': 'Normal',\n",
       "   'r_cooling': 'linear',\n",
       "   'representacao': 'Word2Vec',\n",
       "   'tamanho': '3k'}),\n",
       " (0.28173329744818099,\n",
       "  {'LSA': True,\n",
       "   'a_cooling': 'exponential',\n",
       "   'corpus': 'reuters',\n",
       "   'grid_size': 10,\n",
       "   'learning_rate': 0.1,\n",
       "   'ncluster': 2,\n",
       "   'neighboorhood_radius': 5,\n",
       "   'neighborhood': 'bubble',\n",
       "   'processamento': 'Normal',\n",
       "   'r_cooling': 'linear',\n",
       "   'representacao': 'Word2Vec',\n",
       "   'tamanho': '3k'}),\n",
       " (0.32523285429659032,\n",
       "  {'LSA': True,\n",
       "   'a_cooling': 'exponential',\n",
       "   'corpus': 'reuters',\n",
       "   'grid_size': 7,\n",
       "   'learning_rate': 0.7,\n",
       "   'ncluster': 2,\n",
       "   'neighboorhood_radius': 3,\n",
       "   'neighborhood': 'bubble',\n",
       "   'processamento': 'Normal',\n",
       "   'r_cooling': 'linear',\n",
       "   'representacao': 'Word2Vec',\n",
       "   'tamanho': '3k'})]"
      ]
     },
     "execution_count": 18,
     "metadata": {},
     "output_type": "execute_result"
    }
   ],
   "source": [
    "resp[-10:]"
   ]
  },
  {
   "cell_type": "markdown",
   "metadata": {},
   "source": [
    "Os melhores resultados ncluster=5"
   ]
  },
  {
   "cell_type": "code",
   "execution_count": 19,
   "metadata": {},
   "outputs": [
    {
     "data": {
      "text/plain": [
       "[(0.14699928488824782,\n",
       "  {'LSA': True,\n",
       "   'a_cooling': 'linear',\n",
       "   'corpus': 'reuters',\n",
       "   'grid_size': 7,\n",
       "   'learning_rate': 0.1,\n",
       "   'ncluster': 5,\n",
       "   'neighboorhood_radius': 3,\n",
       "   'neighborhood': 'bubble',\n",
       "   'processamento': 'Normal',\n",
       "   'r_cooling': 'linear',\n",
       "   'representacao': 'TFIDF',\n",
       "   'tamanho': '3k'}),\n",
       " (0.15543316036803898,\n",
       "  {'LSA': True,\n",
       "   'a_cooling': 'exponential',\n",
       "   'corpus': 'reuters',\n",
       "   'grid_size': 7,\n",
       "   'learning_rate': 0.7,\n",
       "   'ncluster': 5,\n",
       "   'neighboorhood_radius': 2,\n",
       "   'neighborhood': 'bubble',\n",
       "   'processamento': 'Lemma',\n",
       "   'r_cooling': 'linear',\n",
       "   'representacao': 'TFIDF',\n",
       "   'tamanho': '3k'}),\n",
       " (0.16844479555340508,\n",
       "  {'LSA': True,\n",
       "   'a_cooling': 'linear',\n",
       "   'corpus': 'reuters',\n",
       "   'grid_size': 10,\n",
       "   'learning_rate': 0.7,\n",
       "   'ncluster': 5,\n",
       "   'neighboorhood_radius': 2,\n",
       "   'neighborhood': 'bubble',\n",
       "   'processamento': 'Normal',\n",
       "   'r_cooling': 'linear',\n",
       "   'representacao': 'TFIDF',\n",
       "   'tamanho': '3k'})]"
      ]
     },
     "execution_count": 19,
     "metadata": {},
     "output_type": "execute_result"
    }
   ],
   "source": [
    "a=[i for i in resp if i[1]['ncluster']==5]\n",
    "sorted(a,key= lambda x: x[0])[-3:]"
   ]
  }
 ],
 "metadata": {
  "kernelspec": {
   "display_name": "Python 3",
   "language": "python",
   "name": "python3"
  },
  "language_info": {
   "codemirror_mode": {
    "name": "ipython",
    "version": 3
   },
   "file_extension": ".py",
   "mimetype": "text/x-python",
   "name": "python",
   "nbconvert_exporter": "python",
   "pygments_lexer": "ipython3",
   "version": "3.6.0"
  }
 },
 "nbformat": 4,
 "nbformat_minor": 2
}
