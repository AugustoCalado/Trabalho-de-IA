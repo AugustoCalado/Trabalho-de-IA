{
 "cells": [
  {
   "cell_type": "code",
   "execution_count": 16,
   "metadata": {},
   "outputs": [],
   "source": [
    "import numpy as np\n",
    "#import /../ultra_omega_alpha_kmeans\n",
    "import math\n",
    "import matplotlib.pyplot as plt\n",
    "import matplotlib.cm as cm\n",
    "import pickle\n",
    "import sys"
   ]
  },
  {
   "cell_type": "code",
   "execution_count": 8,
   "metadata": {},
   "outputs": [],
   "source": [
    "distancia_euclidiana = lambda x,y: np.sqrt(((x-y)**2).sum())"
   ]
  },
  {
   "cell_type": "code",
   "execution_count": 2,
   "metadata": {},
   "outputs": [],
   "source": [
    "\n",
    "def criarConjunto(clusters, dados):\n",
    "    conj_daora = [[] for _ in range(clusters)]\n",
    "    i = 0\n",
    "    for my_cluster in clusters: #my_clus\n",
    "        #conj_daora.append([])\n",
    "\n",
    "        for coordenadas in my_cluster:\n",
    "\n",
    "            mydado = dados[coordenadas]\n",
    "            conj_daora[i].append(mydado)\n",
    "\n",
    "        i = i+1\n",
    "    return conj_daora\n"
   ]
  },
  {
   "cell_type": "code",
   "execution_count": 4,
   "metadata": {},
   "outputs": [],
   "source": [
    "def distanciaMediaIntra(conj_dados): #silhueta para dados \n",
    "       \n",
    "    resultado = [] #guarda distancia médio de cada dado para os outros dados do conjunto de dados\n",
    "\n",
    "    for dado in conj_dados:\n",
    "        dist_soma = 0\n",
    "        for dado_2 in conj_dados:\n",
    "            dist_soma = dist_soma + distancia_euclidiana(dado,dado_2)\n",
    "        resultado.append(dist_soma/len(conj_dados)-1) ##ANALISAR A FORMULA\n",
    "\n",
    "    return resultado"
   ]
  },
  {
   "cell_type": "code",
   "execution_count": 20,
   "metadata": {},
   "outputs": [],
   "source": [
    "def distanciaMediaExtra(numero_do_meu_cluster,conj_cluster_dados): #silhueta para dados extracluster\n",
    "\n",
    "    conj_dados = conj_daora[numero_meu_cluster] #pegando os dados para o cluster numero_do_meu_cluster\n",
    "\n",
    "    resultado = []\n",
    "\n",
    "    for dado in conj_dados:\n",
    "\n",
    "        dist_soma = 0\n",
    "        soma_media_min = sys.maxsize\n",
    "        \n",
    "        i = 0\n",
    "        for cluster_externo in conj_cluster_dados:\n",
    "\n",
    "            if i == numero_meu_cluster: # é o cluster do dado que estamos calculando a distancia\n",
    "                continue\n",
    "\n",
    "            soma_temp = 0\n",
    "\n",
    "            for dado_externo in cluster_externo: \n",
    "                soma_temp = soma_temp + distancia_euclidiana(dado,dado_externo)\n",
    "\n",
    "            soma_temp = soma_temp/len(clusterI) #calculando a distancia média \n",
    "\n",
    "            if soma_temp < soma_media_min :\n",
    "                soma_media_min = soma_temp\n",
    "\n",
    "            i = i + 1\n",
    "\n",
    "        resultado.append(soma_media_min)\n",
    "    \n",
    "    return resultado\n"
   ]
  },
  {
   "cell_type": "code",
   "execution_count": 19,
   "metadata": {},
   "outputs": [],
   "source": [
    "def SilhuetaDado(cluster_avaliado, conj_cluster_dados):\n",
    "\n",
    "    conj_a = distanciaMediaIntra(conj_cluster_dados(cluster_avaliado)) # passando o conjunto de dados referente ao cluster em avaliação\n",
    "    conj_b = distanciaMediaExtra(cluster_avaliado,conj_cluster_dados)\n",
    "\n",
    "    resultado = []\n",
    "\n",
    "    for a,b in conj_a,conj_b:\n",
    "        maior_value = 0\n",
    "        if(a>b):\n",
    "            maior_value = a\n",
    "        else:\n",
    "            maior_value = b\n",
    "        \n",
    "        resultado.append((b-a)/maior_value)\n",
    "    return np.array(resultado) #valor de silhueta para cada dado do cluster\n"
   ]
  },
  {
   "cell_type": "code",
   "execution_count": 21,
   "metadata": {},
   "outputs": [],
   "source": [
    "def calcularSilhueta(kmeans):\n",
    "\n",
    "    silhueta = []\n",
    "\n",
    "    my_cluster =  kmeans.clusters #coordenadas para os dados \n",
    "    my_dados = kmeans.dados # matriz de dados - Para acessar um dado devemos consultar a cordenada em my_cluters (lista de listas)\n",
    "\n",
    "    conj_daora = criarConjunto(my_cluster, my_dados)\n",
    "    \n",
    "    #Limpando memória\n",
    "    my_cluster = None\n",
    "    my_dados = None\n",
    "\n",
    "    for cluster in len(conj_daora):\n",
    "        silhueta.append(SilhuetaDado(cluster, conj_daora))"
   ]
  },
  {
   "cell_type": "code",
   "execution_count": 17,
   "metadata": {},
   "outputs": [
    {
     "data": {
      "text/plain": [
       "9223372036854775807"
      ]
     },
     "execution_count": 17,
     "metadata": {},
     "output_type": "execute_result"
    }
   ],
   "source": [
    "sys.maxsize\n"
   ]
  }
 ],
 "metadata": {
  "kernelspec": {
   "display_name": "Python 3",
   "language": "python",
   "name": "python3"
  },
  "language_info": {
   "codemirror_mode": {
    "name": "ipython",
    "version": 3
   },
   "file_extension": ".py",
   "mimetype": "text/x-python",
   "name": "python",
   "nbconvert_exporter": "python",
   "pygments_lexer": "ipython3",
   "version": "3.6.4"
  }
 },
 "nbformat": 4,
 "nbformat_minor": 2
}
