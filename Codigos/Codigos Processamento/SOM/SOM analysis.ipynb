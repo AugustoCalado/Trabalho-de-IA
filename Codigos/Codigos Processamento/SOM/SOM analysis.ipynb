{
 "cells": [
  {
   "cell_type": "code",
   "execution_count": 1,
   "metadata": {
    "collapsed": true
   },
   "outputs": [],
   "source": [
    "import os\n",
    "import pickle"
   ]
  },
  {
   "cell_type": "code",
   "execution_count": 2,
   "metadata": {
    "collapsed": true
   },
   "outputs": [],
   "source": [
    "respostas =[]\n",
    "for g in os.listdir():\n",
    "    if (\"jojo\" in g):\n",
    "        respostas=respostas+pickle.load(open(g,\"rb\"))"
   ]
  },
  {
   "cell_type": "code",
   "execution_count": 3,
   "metadata": {},
   "outputs": [
    {
     "data": {
      "text/plain": [
       "[(0.21392383958194158,\n",
       "  {'LSA': True,\n",
       "   'a_cooling': 'linear',\n",
       "   'corpus': 'bbc',\n",
       "   'grid_size': 7,\n",
       "   'learning_rate': 0.7,\n",
       "   'ncluster': 4,\n",
       "   'neighboorhood_radius': 3,\n",
       "   'processamento': 'Normal',\n",
       "   'r_cooling': 'linear',\n",
       "   'representacao': 'TFIDF',\n",
       "   'tamanho': '3k'}),\n",
       " (0.22012433710213719,\n",
       "  {'LSA': True,\n",
       "   'a_cooling': 'linear',\n",
       "   'corpus': 'bbc',\n",
       "   'grid_size': 7,\n",
       "   'learning_rate': 0.4,\n",
       "   'ncluster': 4,\n",
       "   'neighboorhood_radius': 3,\n",
       "   'processamento': 'Normal',\n",
       "   'r_cooling': 'linear',\n",
       "   'representacao': 'TFIDF',\n",
       "   'tamanho': '3k'}),\n",
       " (0.22582912037014199,\n",
       "  {'LSA': True,\n",
       "   'a_cooling': 'linear',\n",
       "   'corpus': 'bbc',\n",
       "   'grid_size': 7,\n",
       "   'learning_rate': 0.4,\n",
       "   'ncluster': 4,\n",
       "   'neighboorhood_radius': 3,\n",
       "   'processamento': 'Normal',\n",
       "   'r_cooling': 'linear',\n",
       "   'representacao': 'TFIDF',\n",
       "   'tamanho': '3k'}),\n",
       " (0.23607471421272327,\n",
       "  {'LSA': True,\n",
       "   'a_cooling': 'linear',\n",
       "   'corpus': 'bbc',\n",
       "   'grid_size': 10,\n",
       "   'learning_rate': 0.4,\n",
       "   'ncluster': 3,\n",
       "   'neighboorhood_radius': 5,\n",
       "   'processamento': 'Normal',\n",
       "   'r_cooling': 'linear',\n",
       "   'representacao': 'TF',\n",
       "   'tamanho': '3k'}),\n",
       " (0.23881138968768886,\n",
       "  {'LSA': True,\n",
       "   'a_cooling': 'linear',\n",
       "   'corpus': 'bbc',\n",
       "   'grid_size': 7,\n",
       "   'learning_rate': 0.7,\n",
       "   'ncluster': 4,\n",
       "   'neighboorhood_radius': 3,\n",
       "   'processamento': 'Lemma',\n",
       "   'r_cooling': 'linear',\n",
       "   'representacao': 'TFIDF',\n",
       "   'tamanho': '3k'}),\n",
       " (0.26244562635322849,\n",
       "  {'LSA': True,\n",
       "   'a_cooling': 'linear',\n",
       "   'corpus': 'bbc',\n",
       "   'grid_size': 10,\n",
       "   'learning_rate': 0.1,\n",
       "   'ncluster': 3,\n",
       "   'neighboorhood_radius': 5,\n",
       "   'processamento': 'Normal',\n",
       "   'r_cooling': 'linear',\n",
       "   'representacao': 'TF',\n",
       "   'tamanho': '3k'}),\n",
       " (0.45594433980831439,\n",
       "  {'LSA': True,\n",
       "   'a_cooling': 'exponential',\n",
       "   'corpus': 'bbc',\n",
       "   'grid_size': 7,\n",
       "   'learning_rate': 0.4,\n",
       "   'ncluster': 2,\n",
       "   'neighboorhood_radius': 2,\n",
       "   'processamento': 'Lemma',\n",
       "   'r_cooling': 'linear',\n",
       "   'representacao': 'TFIDF',\n",
       "   'tamanho': '3k'}),\n",
       " (0.46399747893808663,\n",
       "  {'LSA': True,\n",
       "   'a_cooling': 'linear',\n",
       "   'corpus': 'bbc',\n",
       "   'grid_size': 7,\n",
       "   'learning_rate': 0.4,\n",
       "   'ncluster': 2,\n",
       "   'neighboorhood_radius': 3,\n",
       "   'processamento': 'Normal',\n",
       "   'r_cooling': 'linear',\n",
       "   'representacao': 'TFIDF',\n",
       "   'tamanho': '3k'}),\n",
       " (0.48257870790747892,\n",
       "  {'LSA': False,\n",
       "   'a_cooling': 'exponential',\n",
       "   'corpus': 'bbc',\n",
       "   'grid_size': 10,\n",
       "   'learning_rate': 0.1,\n",
       "   'ncluster': 2,\n",
       "   'neighboorhood_radius': 5,\n",
       "   'processamento': 'Normal',\n",
       "   'r_cooling': 'linear',\n",
       "   'representacao': 'TF',\n",
       "   'tamanho': '3k'})]"
      ]
     },
     "execution_count": 3,
     "metadata": {},
     "output_type": "execute_result"
    }
   ],
   "source": [
    "b=sorted(respostas,key=lambda x:x[0])\n",
    "b[-10:-1]"
   ]
  },
  {
   "cell_type": "code",
   "execution_count": 4,
   "metadata": {},
   "outputs": [
    {
     "name": "stderr",
     "output_type": "stream",
     "text": [
      "C:\\Users\\Fernando\\Anaconda3\\lib\\site-packages\\matplotlib\\axes\\_axes.py:545: UserWarning: No labelled objects found. Use label='...' kwarg on individual plots.\n",
      "  warnings.warn(\"No labelled objects found. \"\n"
     ]
    },
    {
     "data": {
      "image/png": "[encoded data removed]",
      "text/plain": [
       "<matplotlib.figure.Figure at 0x1ad256ab588>"
      ]
     },
     "metadata": {},
     "output_type": "display_data"
    }
   ],
   "source": [
    "import matplotlib.pyplot as plt\n",
    "\n",
    "respo=[x[0] for x in b]\n",
    "\n",
    "plt.plot(respo)\n",
    "# Place a legend to the right of this smaller subplot.\n",
    "plt.legend(bbox_to_anchor=(1.05, 1), loc=2, borderaxespad=0.)\n",
    "\n",
    "plt.show()"
   ]
  }
 ],
 "metadata": {
  "kernelspec": {
   "display_name": "Python 3",
   "language": "python",
   "name": "python3"
  },
  "language_info": {
   "codemirror_mode": {
    "name": "ipython",
    "version": 3
   },
   "file_extension": ".py",
   "mimetype": "text/x-python",
   "name": "python",
   "nbconvert_exporter": "python",
   "pygments_lexer": "ipython3",
   "version": "3.6.0"
  }
 },
 "nbformat": 4,
 "nbformat_minor": 2
}
