{
 "cells": [
  {
   "cell_type": "code",
   "execution_count": 3,
   "metadata": {},
   "outputs": [],
   "source": [
    "import pickle\n",
    "import somoclu\n",
    "import ultra_omega_alpha_kmeans"
   ]
  },
  {
   "cell_type": "code",
   "execution_count": 7,
   "metadata": {
    "collapsed": true
   },
   "outputs": [],
   "source": [
    "class Kmeanz:\n",
    "    pass"
   ]
  },
  {
   "cell_type": "markdown",
   "metadata": {},
   "source": [
    "# BBC sem outliers kmeans"
   ]
  },
  {
   "cell_type": "code",
   "execution_count": 4,
   "metadata": {},
   "outputs": [
    {
     "data": {
      "text/plain": [
       "[(0.15876022252519401,\n",
       "  0.16871272914609686,\n",
       "  <ultra_omega_alpha_kmeans.ultra_omega_alpha_kmeans at 0x1c57f68c7b8>,\n",
       "  {'LSA': True,\n",
       "   'algoritmo': 'media',\n",
       "   'corpus': 'bbc',\n",
       "   'distancia': 'euclidiana',\n",
       "   'inicializacao': 'padrao',\n",
       "   'ncluster': 5,\n",
       "   'processamento': 'Normal',\n",
       "   'representacao': 'Word2Vec',\n",
       "   'tamanho': '3k'}),\n",
       " (0.14632591622526031,\n",
       "  0.16909249949380906,\n",
       "  <ultra_omega_alpha_kmeans.ultra_omega_alpha_kmeans at 0x1c57f68ca20>,\n",
       "  {'LSA': True,\n",
       "   'algoritmo': 'media',\n",
       "   'corpus': 'bbc',\n",
       "   'distancia': 'cosseno',\n",
       "   'inicializacao': 'padrao',\n",
       "   'ncluster': 5,\n",
       "   'processamento': 'Lemma',\n",
       "   'representacao': 'Word2Vec',\n",
       "   'tamanho': '3k'}),\n",
       " (0.16315291304703985,\n",
       "  0.16909249950938393,\n",
       "  <ultra_omega_alpha_kmeans.ultra_omega_alpha_kmeans at 0x1c57f68c748>,\n",
       "  {'LSA': True,\n",
       "   'algoritmo': 'media',\n",
       "   'corpus': 'bbc',\n",
       "   'distancia': 'cosseno',\n",
       "   'inicializacao': '++',\n",
       "   'ncluster': 5,\n",
       "   'processamento': 'Normal',\n",
       "   'representacao': 'Word2Vec',\n",
       "   'tamanho': '3k'})]"
      ]
     },
     "execution_count": 4,
     "metadata": {},
     "output_type": "execute_result"
    }
   ],
   "source": [
    "pickle.load(open('resualtado_final_bbc_5clusterz_outliers.lai','rb'))"
   ]
  },
  {
   "cell_type": "markdown",
   "metadata": {},
   "source": [
    "# Reuters sem outliers kmeans"
   ]
  },
  {
   "cell_type": "code",
   "execution_count": 5,
   "metadata": {},
   "outputs": [
    {
     "data": {
      "text/plain": [
       "[(0.15946593724421493,\n",
       "  0.19398184808390695,\n",
       "  <ultra_omega_alpha_kmeans.ultra_omega_alpha_kmeans at 0x1c57f68cf60>,\n",
       "  {'LSA': True,\n",
       "   'algoritmo': 'media',\n",
       "   'corpus': 'reuters',\n",
       "   'distancia': 'euclidiana',\n",
       "   'inicializacao': 'padrao',\n",
       "   'ncluster': 2,\n",
       "   'processamento': 'Lemma',\n",
       "   'representacao': 'TFIDF',\n",
       "   'tamanho': '3k'}),\n",
       " (0.31703886049371272,\n",
       "  0.3170388604968003,\n",
       "  <ultra_omega_alpha_kmeans.ultra_omega_alpha_kmeans at 0x1c57f68cb38>,\n",
       "  {'LSA': True,\n",
       "   'algoritmo': 'media',\n",
       "   'corpus': 'reuters',\n",
       "   'distancia': 'cosseno',\n",
       "   'inicializacao': '++',\n",
       "   'ncluster': 2,\n",
       "   'processamento': 'Lemma',\n",
       "   'representacao': 'Word2Vec',\n",
       "   'tamanho': '3k'}),\n",
       " (0.10507981739252256,\n",
       "  0.13749734400301303,\n",
       "  <ultra_omega_alpha_kmeans.ultra_omega_alpha_kmeans at 0x1c57f68cc50>,\n",
       "  {'LSA': False,\n",
       "   'algoritmo': 'media',\n",
       "   'corpus': 'reuters',\n",
       "   'distancia': 'euclidiana',\n",
       "   'inicializacao': '++',\n",
       "   'ncluster': 2,\n",
       "   'processamento': 'Lemma',\n",
       "   'representacao': 'TFIDF',\n",
       "   'tamanho': '3k'})]"
      ]
     },
     "execution_count": 5,
     "metadata": {},
     "output_type": "execute_result"
    }
   ],
   "source": [
    "pickle.load(open('resualtado_final_reuters_outliers.lai','rb'))"
   ]
  },
  {
   "cell_type": "markdown",
   "metadata": {},
   "source": [
    "# SOM BBC sem outliers"
   ]
  },
  {
   "cell_type": "code",
   "execution_count": 8,
   "metadata": {},
   "outputs": [
    {
     "data": {
      "text/plain": [
       "[(<somoclu.train.Somoclu at 0x1c57f68ce10>,\n",
       "  <__main__.Kmeanz at 0x1c57f748048>,\n",
       "  0.021534751707174709,\n",
       "  0.034150615917241049,\n",
       "  {'LSA': True,\n",
       "   'a_cooling': 'exponential',\n",
       "   'corpus': 'bbc',\n",
       "   'grid_size': 10,\n",
       "   'learning_rate': 0.4,\n",
       "   'ncluster': 5,\n",
       "   'neighboorhood_radius': 2,\n",
       "   'neighborhood': 'bubble',\n",
       "   'processamento': 'Lemma',\n",
       "   'r_cooling': 'linear',\n",
       "   'representacao': 'TFIDF',\n",
       "   'tamanho': '3k'}),\n",
       " (<somoclu.train.Somoclu at 0x1c57f748f28>,\n",
       "  <__main__.Kmeanz at 0x1c57f748fd0>,\n",
       "  0.015119907979407252,\n",
       "  0.052300342071032402,\n",
       "  {'LSA': True,\n",
       "   'a_cooling': 'exponential',\n",
       "   'corpus': 'bbc',\n",
       "   'grid_size': 20,\n",
       "   'learning_rate': 0.1,\n",
       "   'ncluster': 5,\n",
       "   'neighboorhood_radius': 2,\n",
       "   'neighborhood': 'bubble',\n",
       "   'processamento': 'Lemma',\n",
       "   'r_cooling': 'linear',\n",
       "   'representacao': 'TFIDF',\n",
       "   'tamanho': '3k'}),\n",
       " (<somoclu.train.Somoclu at 0x1c57f773080>,\n",
       "  <__main__.Kmeanz at 0x1c57f748940>,\n",
       "  0.037650241154972799,\n",
       "  0.047044851851877602,\n",
       "  {'LSA': True,\n",
       "   'a_cooling': 'linear',\n",
       "   'corpus': 'bbc',\n",
       "   'grid_size': 10,\n",
       "   'learning_rate': 0.4,\n",
       "   'ncluster': 5,\n",
       "   'neighboorhood_radius': 3,\n",
       "   'neighborhood': 'bubble',\n",
       "   'processamento': 'Normal',\n",
       "   'r_cooling': 'linear',\n",
       "   'representacao': 'TFIDF',\n",
       "   'tamanho': '3k'})]"
      ]
     },
     "execution_count": 8,
     "metadata": {},
     "output_type": "execute_result"
    }
   ],
   "source": [
    "pickle.load(open('som_real_bbc_outliers5+.lai','rb'))"
   ]
  },
  {
   "cell_type": "markdown",
   "metadata": {},
   "source": [
    "# SOM reuters sem outliers"
   ]
  },
  {
   "cell_type": "code",
   "execution_count": 9,
   "metadata": {},
   "outputs": [
    {
     "data": {
      "text/plain": [
       "[(<somoclu.train.Somoclu at 0x1c57f748240>,\n",
       "  <__main__.Kmeanz at 0x1c57f748c50>,\n",
       "  0.049095293426153638,\n",
       "  0.093565985575521496,\n",
       "  {'LSA': True,\n",
       "   'a_cooling': 'linear',\n",
       "   'corpus': 'reuters',\n",
       "   'grid_size': 10,\n",
       "   'learning_rate': 0.1,\n",
       "   'ncluster': 5,\n",
       "   'neighboorhood_radius': 3,\n",
       "   'neighborhood': 'bubble',\n",
       "   'processamento': 'Normal',\n",
       "   'r_cooling': 'linear',\n",
       "   'representacao': 'TFIDF',\n",
       "   'tamanho': '3k'}),\n",
       " (<somoclu.train.Somoclu at 0x1c57f773470>,\n",
       "  <__main__.Kmeanz at 0x1c57f773748>,\n",
       "  0.049070942308592859,\n",
       "  0.10905083725277991,\n",
       "  {'LSA': True,\n",
       "   'a_cooling': 'exponential',\n",
       "   'corpus': 'reuters',\n",
       "   'grid_size': 10,\n",
       "   'learning_rate': 0.7,\n",
       "   'ncluster': 5,\n",
       "   'neighboorhood_radius': 2,\n",
       "   'neighborhood': 'bubble',\n",
       "   'processamento': 'Lemma',\n",
       "   'r_cooling': 'linear',\n",
       "   'representacao': 'TFIDF',\n",
       "   'tamanho': '3k'}),\n",
       " (<somoclu.train.Somoclu at 0x1c57f748b70>,\n",
       "  <__main__.Kmeanz at 0x1c57f7733c8>,\n",
       "  0.018687604944871487,\n",
       "  0.067322099525568432,\n",
       "  {'LSA': True,\n",
       "   'a_cooling': 'linear',\n",
       "   'corpus': 'reuters',\n",
       "   'grid_size': 15,\n",
       "   'learning_rate': 0.7,\n",
       "   'ncluster': 5,\n",
       "   'neighboorhood_radius': 2,\n",
       "   'neighborhood': 'bubble',\n",
       "   'processamento': 'Normal',\n",
       "   'r_cooling': 'linear',\n",
       "   'representacao': 'TFIDF',\n",
       "   'tamanho': '3k'})]"
      ]
     },
     "execution_count": 9,
     "metadata": {},
     "output_type": "execute_result"
    }
   ],
   "source": [
    "pickle.load(open('som_real_reuters_outliers_5+.lai','rb'))"
   ]
  }
 ],
 "metadata": {
  "kernelspec": {
   "display_name": "Python 3",
   "language": "python",
   "name": "python3"
  },
  "language_info": {
   "codemirror_mode": {
    "name": "ipython",
    "version": 3
   },
   "file_extension": ".py",
   "mimetype": "text/x-python",
   "name": "python",
   "nbconvert_exporter": "python",
   "pygments_lexer": "ipython3",
   "version": "3.6.0"
  }
 },
 "nbformat": 4,
 "nbformat_minor": 2
}
