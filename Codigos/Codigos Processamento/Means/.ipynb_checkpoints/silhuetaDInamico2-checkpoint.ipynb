{
 "cells": [
  {
   "cell_type": "code",
   "execution_count": 6,
   "metadata": {},
   "outputs": [],
   "source": [
    "import numpy as np\n",
    "import ultra_omega_alpha_kmeans\n",
    "import math\n",
    "import matplotlib.pyplot as plt\n",
    "import matplotlib.cm as cm\n",
    "import pickle\n",
    "from sklearn.metrics import euclidean_distances\n",
    "import sys\n",
    "from joblib import Parallel, delayed\n",
    "#from dadosdor import recupera_dados \n",
    "\n",
    "\n",
    "#distancia_euclidiana = lambda x,y: np.sqrt(((x-y)**2).sum())"
   ]
  },
  {
   "cell_type": "code",
   "execution_count": 7,
   "metadata": {},
   "outputs": [],
   "source": [
    "def calcularSilhueta(kmeans):\n",
    "\n",
    "    silhueta_dados = []\n",
    "\n",
    "    my_cluster =  kmeans.clusters #coordenadas para os dados \n",
    "    my_dados = kmeans.dados # matriz de dados - Para acessar um dado devemos consultar a cordenada em my_cluters (lista de listas)\n",
    "\n",
    "    conj_daora = criarConjunto(my_cluster, my_dados)\n",
    "    \n",
    "    #Limpando memória\n",
    "    my_cluster = None\n",
    "    my_dados = None\n",
    "\n",
    "    silhueta_dados = SilhuetaDado(conj_daora) \n",
    "    \n",
    "    silhueta_grupos = [SilhuetaGrupo(grupo) for grupo in silhueta_dados]\n",
    "\n",
    "    silhueta_grupos = np.array(silhueta_grupos)\n",
    "\n",
    "    result = SilhuetaTotal(silhueta_grupos)\n",
    "\n",
    "    return result"
   ]
  },
  {
   "cell_type": "code",
   "execution_count": 8,
   "metadata": {},
   "outputs": [],
   "source": [
    "def criarConjunto(clusters, dados):\n",
    "    conj_daora = [[] for _ in range(len(clusters))]\n",
    "    i = 0\n",
    "    for my_cluster in clusters: #my_clus\n",
    "        #conj_daora.append([])\n",
    "\n",
    "        for coordenadas in my_cluster:\n",
    "\n",
    "            mydado = dados[coordenadas]\n",
    "            conj_daora[i].append(mydado)\n",
    "\n",
    "        i = i+1\n",
    "    return conj_daora\n",
    "\n",
    "#"
   ]
  },
  {
   "cell_type": "code",
   "execution_count": null,
   "metadata": {},
   "outputs": [],
   "source": []
  },
  {
   "cell_type": "code",
   "execution_count": 24,
   "metadata": {},
   "outputs": [],
   "source": [
    "def distanciaMediaExtra4x4(conj_cluster_dados):   #paired_distances\n",
    "    \n",
    "\n",
    "   \n",
    "    resultado = [] #resultado parcial das distancias extras para o cluster cN\n",
    "    \n",
    "    maxZ = np.max([len(x) for x in conj_cluster_dados]) #selected a maior lista que existe para um cluster\n",
    "       \n",
    "    \n",
    "    matriz_distancias = np.full((len(conj_cluster_dados),maxZ,len(conj_cluster_dados),maxZ), np.nan)\n",
    "    \n",
    "    #dist de todos para todos\n",
    "    distancia_geral = Parallel(n_jobs=-1,  backend=\"threading\") (delayed(euclidean_distances)(conj_cluster_dados[x],conj_cluster_dados[y]) for x in range(len(conj_cluster_dados)) for y in range(len(conj_cluster_dados)) if(y > x))\n",
    "    \n",
    "    dist_inter = iter(distancia_geral)\n",
    "    \n",
    "    for i in range(len(conj_cluster_dados)):\n",
    "        \n",
    "        \n",
    "        for j in range(len(conj_cluster_dados)):\n",
    "            \n",
    "            if(j>i):                \n",
    "                \n",
    "                cluster_analisado = next(dist_inter)\n",
    "                \n",
    "                for cI,clusterI in enumerate(cluster_analisado):\n",
    "                    \n",
    "                    for k in range(len(clusterI)):\n",
    "                        \n",
    "                        matriz_distancias[i][cI][j][k] = cluster_analisado[cI][k]\n",
    "                        matriz_distancias[j][k][i][cI] = cluster_analisado[cI][k]\n",
    "                        \n",
    "                        \n",
    "    for i in range(len(conj_cluster_dados)):\n",
    "        \n",
    "        resultado_cluster_parcial = []\n",
    "        \n",
    "        for j in range(len(conj_cluster_dados[i])):\n",
    "            \n",
    "            soma_media_min = np.inf\n",
    "            \n",
    "            for clusterII in range(len(conj_cluster_dados)):\n",
    "                \n",
    "                if(clusterII != i):\n",
    "                    \n",
    "                    media_distancia = 0\n",
    "                    \n",
    "                    for dadoII in range(maxZ):\n",
    "                        \n",
    "                        if(np.isnan(matriz_distancias[i][j][clusterII][dadoII])):\n",
    "                            break\n",
    "                            \n",
    "                        else: \n",
    "                            media_distancia = media_distancia + matriz_distancias[i][j][clusterII][dadoII]\n",
    "                            \n",
    "                    media_distancia = media_distancia/len(conj_cluster_dados[clusterII])\n",
    "                    \n",
    "                    if(media_distancia < soma_media_min):\n",
    "                        soma_media_min = media_distancia\n",
    "                        \n",
    "            resultado_cluster_parcial.append(soma_media_min)\n",
    "            \n",
    "        resultado.append(resultado_cluster_parcial)\n",
    "        \n",
    "    return np.array(resultado)\n",
    "            \n",
    "        \n",
    "  "
   ]
  },
  {
   "cell_type": "code",
   "execution_count": null,
   "metadata": {},
   "outputs": [],
   "source": [
    "def distanciaMediaIntra(conj_dados): #silhueta para dados \n",
    "    \n",
    "    distancia_geral = euclidean_distances(conj_dados, conj_dados)\n",
    "    \n",
    "    #cada linha é a distancia do ponto para todo resto\n",
    "    #media d alinha\n",
    "    \n",
    "    return np.array([x.sum()/(len(x)-1) for x in distancia_geral]) \n",
    "    \n",
    "    \n",
    "    "
   ]
  },
  {
   "cell_type": "code",
   "execution_count": 15,
   "metadata": {},
   "outputs": [],
   "source": [
    "def SilhuetaDado(conj_cluster_dados):\n",
    "\n",
    "    #list_conj_a = [distanciaMediaIntra(conj_cluster_dados[x]) for x in range(len(conj_cluster_dados))] # passando o conjunto de dados referente ao cluster em avaliação\n",
    "    \n",
    "    list_conj_a = Parallel(n_jobs=-1,  backend=\"threading\")  (delayed(distanciaMediaIntra)(conj_cluster_dados[x]) for x in range(len(conj_cluster_dados))) # passando o conjunto de dados referente ao cluster em avaliação\n",
    "    \n",
    "    \n",
    "    list_conj_b = distanciaMediaExtra4x4(conj_cluster_dados)\n",
    "    \n",
    "\n",
    "    resultado = []\n",
    "\n",
    "    for a,b in zip(list_conj_a,list_conj_b):\n",
    "        a = np.array(a) # lista de distancias intra\n",
    "        b = np.array(b) # lista de distancias extra\n",
    "\n",
    "        c = np.concatenate([[a],[b]], axis = 0).max(axis = 0) #este é o denominador da silhueta- é o maximo entre a e b para todos os valores do vetor\n",
    "        \n",
    "        silhueta = (b-a)/c #Daora\n",
    "        \n",
    "        resultado.append(silhueta)\n",
    "    return np.array(resultado) #valor de silhueta para cada dado do cluster para todos os cluster"
   ]
  },
  {
   "cell_type": "code",
   "execution_count": 16,
   "metadata": {},
   "outputs": [],
   "source": [
    " def SilhuetaGrupo(conj_silhueta_dados):\n",
    "    return conj_silhueta_dados.sum()/len(conj_silhueta_dados)"
   ]
  },
  {
   "cell_type": "code",
   "execution_count": 17,
   "metadata": {},
   "outputs": [],
   "source": [
    "def SilhuetaTotal(conj_silhueta_grupo):\n",
    "    conj = np.array(conj_silhueta_grupo)\n",
    "    return conj.sum()/len(conj) "
   ]
  },
  {
   "cell_type": "code",
   "execution_count": 9,
   "metadata": {},
   "outputs": [],
   "source": [
    "arquivo = pickle.load(open(\"arq.aug\",\"rb\"))"
   ]
  },
  {
   "cell_type": "code",
   "execution_count": 10,
   "metadata": {},
   "outputs": [],
   "source": [
    "arquivo = np.array(arquivo.todense())"
   ]
  },
  {
   "cell_type": "code",
   "execution_count": 11,
   "metadata": {},
   "outputs": [],
   "source": [
    "kmenzao = ultra_omega_alpha_kmeans.ultra_omega_alpha_kmeans(no_clusters = 3)"
   ]
  },
  {
   "cell_type": "code",
   "execution_count": 12,
   "metadata": {},
   "outputs": [
    {
     "name": "stderr",
     "output_type": "stream",
     "text": [
      "  4% (22 of 500) |#                      | Elapsed Time: 0:01:14 ETA:   0:15:29"
     ]
    }
   ],
   "source": [
    "kmenzao.incluir(arquivo)\n",
    "kmenzao.inicializar()\n",
    "kmenzao.executar()\n"
   ]
  },
  {
   "cell_type": "code",
   "execution_count": 41,
   "metadata": {},
   "outputs": [
    {
     "data": {
      "text/plain": [
       "array([[0., 0., 0., ..., 0., 0., 0.],\n",
       "       [0., 0., 0., ..., 0., 0., 0.],\n",
       "       [0., 0., 0., ..., 0., 0., 0.],\n",
       "       ...,\n",
       "       [0., 0., 0., ..., 0., 0., 0.],\n",
       "       [0., 0., 0., ..., 0., 0., 0.],\n",
       "       [0., 0., 0., ..., 0., 0., 0.]])"
      ]
     },
     "execution_count": 41,
     "metadata": {},
     "output_type": "execute_result"
    }
   ],
   "source": [
    "kmenzao.dados"
   ]
  },
  {
   "cell_type": "code",
   "execution_count": 40,
   "metadata": {},
   "outputs": [
    {
     "data": {
      "text/plain": [
       "array([[0., 0., 0., ..., 0., 0., 0.],\n",
       "       [0., 0., 0., ..., 0., 0., 0.],\n",
       "       [0., 0., 0., ..., 0., 0., 0.]])"
      ]
     },
     "execution_count": 40,
     "metadata": {},
     "output_type": "execute_result"
    }
   ],
   "source": [
    "kmenzao.centroids"
   ]
  },
  {
   "cell_type": "code",
   "execution_count": 21,
   "metadata": {},
   "outputs": [
    {
     "name": "stdout",
     "output_type": "stream",
     "text": [
      "Wall time: 1min 38s\n"
     ]
    }
   ],
   "source": [
    "%time distancia_geral = Parallel(n_jobs=-1,  backend=\"threading\") (delayed(euclidean_distances)(conj_cluster_dados[x],conj_cluster_dados[y]) for x in range(len(conj_cluster_dados)) for y in range(len(conj_cluster_dados)) if(y > x))\n"
   ]
  },
  {
   "cell_type": "code",
   "execution_count": 20,
   "metadata": {},
   "outputs": [
    {
     "data": {
      "text/plain": [
       "3"
      ]
     },
     "execution_count": 20,
     "metadata": {},
     "output_type": "execute_result"
    }
   ],
   "source": [
    "len(distancia_geral)"
   ]
  },
  {
   "cell_type": "code",
   "execution_count": 16,
   "metadata": {},
   "outputs": [],
   "source": [
    "conj_cluster_dados = criarConjunto(kmenzao.clusters, kmenzao.dados)"
   ]
  },
  {
   "cell_type": "code",
   "execution_count": 25,
   "metadata": {},
   "outputs": [
    {
     "ename": "NameError",
     "evalue": "name 'resuldado_cluster_parcial' is not defined",
     "output_type": "error",
     "traceback": [
      "\u001b[1;31m---------------------------------------------------------------------------\u001b[0m",
      "\u001b[1;31mNameError\u001b[0m                                 Traceback (most recent call last)",
      "\u001b[1;32m<timed exec>\u001b[0m in \u001b[0;36m<module>\u001b[1;34m()\u001b[0m\n",
      "\u001b[1;32m<ipython-input-24-5fa5e0dab09f>\u001b[0m in \u001b[0;36mdistanciaMediaExtra4x4\u001b[1;34m(conj_cluster_dados)\u001b[0m\n\u001b[0;32m     61\u001b[0m             \u001b[0mresultado_cluster_parcial\u001b[0m\u001b[1;33m.\u001b[0m\u001b[0mappend\u001b[0m\u001b[1;33m(\u001b[0m\u001b[0msoma_media_min\u001b[0m\u001b[1;33m)\u001b[0m\u001b[1;33m\u001b[0m\u001b[0m\n\u001b[0;32m     62\u001b[0m \u001b[1;33m\u001b[0m\u001b[0m\n\u001b[1;32m---> 63\u001b[1;33m         \u001b[0mresultado\u001b[0m\u001b[1;33m.\u001b[0m\u001b[0mappend\u001b[0m\u001b[1;33m(\u001b[0m\u001b[0mresuldado_cluster_parcial\u001b[0m\u001b[1;33m)\u001b[0m\u001b[1;33m\u001b[0m\u001b[0m\n\u001b[0m\u001b[0;32m     64\u001b[0m \u001b[1;33m\u001b[0m\u001b[0m\n\u001b[0;32m     65\u001b[0m     \u001b[1;32mreturn\u001b[0m \u001b[0mnp\u001b[0m\u001b[1;33m.\u001b[0m\u001b[0marray\u001b[0m\u001b[1;33m(\u001b[0m\u001b[0mresultado\u001b[0m\u001b[1;33m)\u001b[0m\u001b[1;33m\u001b[0m\u001b[0m\n",
      "\u001b[1;31mNameError\u001b[0m: name 'resuldado_cluster_parcial' is not defined"
     ]
    }
   ],
   "source": [
    "%time extra = distanciaMediaExtra4x4(conj_cluster_dados)"
   ]
  }
 ],
 "metadata": {
  "kernelspec": {
   "display_name": "Python 3",
   "language": "python",
   "name": "python3"
  },
  "language_info": {
   "codemirror_mode": {
    "name": "ipython",
    "version": 3
   },
   "file_extension": ".py",
   "mimetype": "text/x-python",
   "name": "python",
   "nbconvert_exporter": "python",
   "pygments_lexer": "ipython3",
   "version": "3.6.4"
  }
 },
 "nbformat": 4,
 "nbformat_minor": 2
}
