{
 "cells": [
  {
   "cell_type": "code",
   "execution_count": 1,
   "metadata": {},
   "outputs": [],
   "source": [
    "import ultra_omega_alpha_kmeans\n",
    "import pickle\n",
    "import numpy as np"
   ]
  },
  {
   "cell_type": "code",
   "execution_count": 2,
   "metadata": {},
   "outputs": [
    {
     "data": {
      "text/plain": [
       "array([[ 0.01225492,  0.03387978, -0.01304498, ...,  0.02451032,\n",
       "         0.07419928, -0.10043287],\n",
       "       [-0.02079055,  0.04963289,  0.0073909 , ...,  0.0316893 ,\n",
       "         0.06149255, -0.08207808],\n",
       "       [-0.00108208,  0.02941079, -0.003419  , ...,  0.02114885,\n",
       "         0.04987941, -0.077208  ],\n",
       "       ..., \n",
       "       [ 0.02373557,  0.03319398,  0.06419043, ..., -0.04070419,\n",
       "         0.03597795, -0.00842514],\n",
       "       [ 0.01895667,  0.04957427,  0.00874334, ..., -0.05661149,\n",
       "         0.05180804, -0.02813514],\n",
       "       [ 0.04904571,  0.04468653, -0.00345613, ..., -0.0138983 ,\n",
       "         0.04089026, -0.04420469]], dtype=float32)"
      ]
     },
     "execution_count": 2,
     "metadata": {},
     "output_type": "execute_result"
    }
   ],
   "source": [
    "arq = pickle.load(open(\"Word2Vec.aug\",\"rb\"))\n",
    "arq= np.array(arq)\n",
    "arq"
   ]
  },
  {
   "cell_type": "code",
   "execution_count": 3,
   "metadata": {
    "scrolled": false
   },
   "outputs": [
    {
     "name": "stderr",
     "output_type": "stream",
     "text": [
      "  3% (19 of 500) |                       | Elapsed Time: 0:00:00 ETA:   0:00:06"
     ]
    },
    {
     "name": "stdout",
     "output_type": "stream",
     "text": [
      "2\n"
     ]
    },
    {
     "name": "stderr",
     "output_type": "stream",
     "text": [
      "  1% (7 of 500) |                        | Elapsed Time: 0:00:00 ETA:  00:00:00"
     ]
    },
    {
     "name": "stdout",
     "output_type": "stream",
     "text": [
      "tentando_dividir\n"
     ]
    },
    {
     "name": "stderr",
     "output_type": "stream",
     "text": [
      "\r",
      "                                                                               \r",
      "\r",
      "N/A% (0 of 500) |                        | Elapsed Time: 0:00:00 ETA:  --:--:--"
     ]
    },
    {
     "name": "stdout",
     "output_type": "stream",
     "text": [
      "antigo 0.131673389686 novo 0.105902195011\n",
      "foi false\n",
      "tentando_dividir\n",
      "antigo 0.126577716271 novo 0.162227357709\n",
      "foi true\n",
      "3\n"
     ]
    },
    {
     "name": "stderr",
     "output_type": "stream",
     "text": [
      "  2% (13 of 500) |                       | Elapsed Time: 0:00:00 ETA:  00:00:00"
     ]
    },
    {
     "name": "stdout",
     "output_type": "stream",
     "text": [
      "tentando_dividir\n"
     ]
    },
    {
     "name": "stderr",
     "output_type": "stream",
     "text": [
      "\r",
      "                                                                               \r",
      "\r",
      "N/A% (0 of 500) |                        | Elapsed Time: 0:00:00 ETA:  --:--:--"
     ]
    },
    {
     "name": "stdout",
     "output_type": "stream",
     "text": [
      "antigo 0.117430605831 novo 0.10631873902\n",
      "foi false\n",
      "tentando_dividir\n"
     ]
    },
    {
     "name": "stderr",
     "output_type": "stream",
     "text": [
      "\r",
      "                                                                               \r",
      "\r",
      "N/A% (0 of 500) |                        | Elapsed Time: 0:00:00 ETA:  --:--:--"
     ]
    },
    {
     "name": "stdout",
     "output_type": "stream",
     "text": [
      "antigo 0.171034483779 novo 0.106128187472\n",
      "foi false\n",
      "tentando_dividir\n",
      "antigo 0.146728073801 novo 0.0955602208131\n",
      "foi false\n",
      "parando pq k = k\n"
     ]
    }
   ],
   "source": [
    "kmeans = ultra_omega_alpha_kmeans.ultra_omega_alpha_kmeans()\n",
    "kmeans.incluir(arq)\n",
    "kmeans.inicializar()\n",
    "kmeans.executar_x_means(7)\n",
    "#kmeans_inter_grupo precisa"
   ]
  },
  {
   "cell_type": "code",
   "execution_count": 4,
   "metadata": {},
   "outputs": [
    {
     "data": {
      "text/plain": [
       "3"
      ]
     },
     "execution_count": 4,
     "metadata": {},
     "output_type": "execute_result"
    }
   ],
   "source": [
    "kmeans.no_clusters"
   ]
  },
  {
   "cell_type": "code",
   "execution_count": 5,
   "metadata": {},
   "outputs": [
    {
     "data": {
      "text/plain": [
       "3"
      ]
     },
     "execution_count": 5,
     "metadata": {},
     "output_type": "execute_result"
    }
   ],
   "source": [
    "kmeans.no_clusters"
   ]
  },
  {
   "cell_type": "code",
   "execution_count": 9,
   "metadata": {},
   "outputs": [
    {
     "data": {
      "text/plain": [
       "2225"
      ]
     },
     "execution_count": 9,
     "metadata": {},
     "output_type": "execute_result"
    }
   ],
   "source": [
    "len(kmeans.clusters[0]+kmeans.clusters[1]+kmeans.clusters[2])"
   ]
  },
  {
   "cell_type": "code",
   "execution_count": 11,
   "metadata": {
    "collapsed": true
   },
   "outputs": [],
   "source": [
    "for f in kmeans.clusters:\n",
    "    for ff in kmeans.clusters:\n",
    "        if(ff is not f):\n",
    "            for g in f:\n",
    "                if(g in ff):\n",
    "                    print(\"error\")"
   ]
  }
 ],
 "metadata": {
  "kernelspec": {
   "display_name": "Python 3",
   "language": "python",
   "name": "python3"
  },
  "language_info": {
   "codemirror_mode": {
    "name": "ipython",
    "version": 3
   },
   "file_extension": ".py",
   "mimetype": "text/x-python",
   "name": "python",
   "nbconvert_exporter": "python",
   "pygments_lexer": "ipython3",
   "version": "3.6.2"
  }
 },
 "nbformat": 4,
 "nbformat_minor": 2
}
